{
 "cells": [
  {
   "cell_type": "markdown",
   "metadata": {},
   "source": [
    "# Modelo de Regresión Simple"
   ]
  },
  {
   "cell_type": "code",
   "execution_count": 1,
   "metadata": {
    "tags": []
   },
   "outputs": [
    {
     "name": "stderr",
     "output_type": "stream",
     "text": [
      "Using Spark's default log4j profile: org/apache/spark/log4j-defaults.properties\n",
      "Setting default log level to \"WARN\".\n",
      "To adjust logging level use sc.setLogLevel(newLevel). For SparkR, use setLogLevel(newLevel).\n",
      "22/02/22 14:14:08 WARN NativeCodeLoader: Unable to load native-hadoop library for your platform... using builtin-java classes where applicable\n",
      "/home/aldos/anaconda3/lib/python3.9/site-packages/pyspark/sql/context.py:77: FutureWarning: Deprecated in 3.0.0. Use SparkSession.builder.getOrCreate() instead.\n",
      "  warnings.warn(\n"
     ]
    }
   ],
   "source": [
    "from pyspark import SparkContext\n",
    "sc = SparkContext()\n",
    "from pyspark.sql import SQLContext\n",
    "sqlContext=SQLContext(sc)"
   ]
  },
  {
   "cell_type": "code",
   "execution_count": 2,
   "metadata": {
    "tags": []
   },
   "outputs": [
    {
     "name": "stderr",
     "output_type": "stream",
     "text": [
      "                                                                                \r"
     ]
    }
   ],
   "source": [
    "bd5 = sqlContext.read.format(\n",
    "    \"com.databricks.spark.csv\"\n",
    ").option(\"header\", \"true\").load(\"../bd5.csv\", inferSchema=True)\n",
    "sqlContext.registerDataFrameAsTable(bd5, \"bd5\")"
   ]
  },
  {
   "cell_type": "markdown",
   "metadata": {},
   "source": [
    "## Descripción Previa de la Base de Datos"
   ]
  },
  {
   "cell_type": "markdown",
   "metadata": {},
   "source": [
    "Resumen Numérico"
   ]
  },
  {
   "cell_type": "code",
   "execution_count": 3,
   "metadata": {
    "collapsed": false,
    "jupyter": {
     "outputs_hidden": false
    }
   },
   "outputs": [
    {
     "name": "stderr",
     "output_type": "stream",
     "text": [
      "                                                                                \r"
     ]
    },
    {
     "data": {
      "text/html": [
       "<div>\n",
       "<style scoped>\n",
       "    .dataframe tbody tr th:only-of-type {\n",
       "        vertical-align: middle;\n",
       "    }\n",
       "\n",
       "    .dataframe tbody tr th {\n",
       "        vertical-align: top;\n",
       "    }\n",
       "\n",
       "    .dataframe thead th {\n",
       "        text-align: right;\n",
       "    }\n",
       "</style>\n",
       "<table border=\"1\" class=\"dataframe\">\n",
       "  <thead>\n",
       "    <tr style=\"text-align: right;\">\n",
       "      <th></th>\n",
       "      <th>Horario</th>\n",
       "      <th>ArrDelay</th>\n",
       "      <th>DepDelay</th>\n",
       "      <th>RetrasoNeto</th>\n",
       "    </tr>\n",
       "  </thead>\n",
       "  <tbody>\n",
       "    <tr>\n",
       "      <th>Horario</th>\n",
       "      <td>1.000000</td>\n",
       "      <td>0.112710</td>\n",
       "      <td>0.101596</td>\n",
       "      <td>0.062927</td>\n",
       "    </tr>\n",
       "    <tr>\n",
       "      <th>ArrDelay</th>\n",
       "      <td>0.112710</td>\n",
       "      <td>1.000000</td>\n",
       "      <td>0.945805</td>\n",
       "      <td>0.435178</td>\n",
       "    </tr>\n",
       "    <tr>\n",
       "      <th>DepDelay</th>\n",
       "      <td>0.101596</td>\n",
       "      <td>0.945805</td>\n",
       "      <td>1.000000</td>\n",
       "      <td>0.119220</td>\n",
       "    </tr>\n",
       "    <tr>\n",
       "      <th>RetrasoNeto</th>\n",
       "      <td>0.062927</td>\n",
       "      <td>0.435178</td>\n",
       "      <td>0.119220</td>\n",
       "      <td>1.000000</td>\n",
       "    </tr>\n",
       "  </tbody>\n",
       "</table>\n",
       "</div>"
      ],
      "text/plain": [
       "              Horario  ArrDelay  DepDelay  RetrasoNeto\n",
       "Horario      1.000000  0.112710  0.101596     0.062927\n",
       "ArrDelay     0.112710  1.000000  0.945805     0.435178\n",
       "DepDelay     0.101596  0.945805  1.000000     0.119220\n",
       "RetrasoNeto  0.062927  0.435178  0.119220     1.000000"
      ]
     },
     "execution_count": 3,
     "metadata": {},
     "output_type": "execute_result"
    }
   ],
   "source": [
    "pdf4 = bd5.sample(False, 0.1, 0).select('Dest','Horario','ArrDelay','DepDelay','RetrasoNeto').toPandas()\n",
    "pdf4.corr()"
   ]
  },
  {
   "cell_type": "markdown",
   "metadata": {},
   "source": [
    "Resumen Gráfico"
   ]
  },
  {
   "cell_type": "code",
   "execution_count": 4,
   "metadata": {
    "collapsed": false,
    "jupyter": {
     "outputs_hidden": false
    }
   },
   "outputs": [
    {
     "data": {
      "text/plain": [
       "<seaborn.axisgrid.JointGrid at 0x7f162d7286d0>"
      ]
     },
     "execution_count": 4,
     "metadata": {},
     "output_type": "execute_result"
    },
    {
     "data": {
      "image/png": "[encoded data removed]",
      "text/plain": [
       "<Figure size 432x432 with 3 Axes>"
      ]
     },
     "metadata": {
      "needs_background": "light"
     },
     "output_type": "display_data"
    }
   ],
   "source": [
    "import seaborn as sns\n",
    "%matplotlib inline\n",
    "sns.jointplot(x=\"DepDelay\", y=\"ArrDelay\", data=pdf4)"
   ]
  },
  {
   "cell_type": "markdown",
   "metadata": {},
   "source": [
    "## Configuración de la base de datos"
   ]
  },
  {
   "cell_type": "code",
   "execution_count": 5,
   "metadata": {
    "collapsed": false,
    "jupyter": {
     "outputs_hidden": false
    }
   },
   "outputs": [
    {
     "name": "stdout",
     "output_type": "stream",
     "text": [
      "+-----+--------+\n",
      "|label|features|\n",
      "+-----+--------+\n",
      "| -7.0|  [-5.0]|\n",
      "| -3.0|   [5.0]|\n",
      "| -3.0|  [-3.0]|\n",
      "| -2.0|  [-7.0]|\n",
      "| -2.0|  [-6.0]|\n",
      "|  0.0|  [-1.0]|\n",
      "| -6.0|   [0.0]|\n",
      "|  7.0|   [0.0]|\n",
      "| -9.0|  [-1.0]|\n",
      "| -2.0|  [-1.0]|\n",
      "| 13.0|   [1.0]|\n",
      "|-16.0|  [-2.0]|\n",
      "|-21.0|  [-4.0]|\n",
      "|-16.0|  [-1.0]|\n",
      "|-11.0|   [0.0]|\n",
      "| -8.0|   [0.0]|\n",
      "| -4.0|  [13.0]|\n",
      "|  0.0|  [17.0]|\n",
      "| -2.0|  [12.0]|\n",
      "|  2.0|  [19.0]|\n",
      "+-----+--------+\n",
      "only showing top 20 rows\n",
      "\n"
     ]
    }
   ],
   "source": [
    "from pyspark.ml.feature import VectorAssembler\n",
    "from pyspark.sql.functions import col\n",
    "\n",
    "assembler = VectorAssembler(\n",
    "    inputCols=['DepDelay'],\n",
    "    outputCol='features')\n",
    "\n",
    "bd6 = assembler.transform(bd5).select(col(\"ArrDelay\").alias(\"label\"),'features')\n",
    "bd6.show()"
   ]
  },
  {
   "cell_type": "markdown",
   "metadata": {},
   "source": [
    "### Ajuste del modelo"
   ]
  },
  {
   "cell_type": "code",
   "execution_count": 6,
   "metadata": {
    "collapsed": false,
    "jupyter": {
     "outputs_hidden": false
    }
   },
   "outputs": [
    {
     "name": "stderr",
     "output_type": "stream",
     "text": [
      "22/02/22 14:16:23 WARN Instrumentation: [9dcf7b9b] regParam is zero, which might cause numerical instability and overfitting.\n",
      "                                                                                \r"
     ]
    }
   ],
   "source": [
    "from pyspark.ml.regression import LinearRegression\n",
    "lr = LinearRegression()\n",
    "model = lr.fit(bd6)\n",
    "pred = model.transform(bd6)"
   ]
  },
  {
   "cell_type": "markdown",
   "metadata": {},
   "source": [
    "Coeficientes"
   ]
  },
  {
   "cell_type": "code",
   "execution_count": 7,
   "metadata": {
    "collapsed": false,
    "jupyter": {
     "outputs_hidden": false
    }
   },
   "outputs": [
    {
     "name": "stdout",
     "output_type": "stream",
     "text": [
      "-4.399441080491326 [1.0278600247757472]\n"
     ]
    }
   ],
   "source": [
    "print(model.intercept,model.coefficients)"
   ]
  },
  {
   "cell_type": "markdown",
   "metadata": {},
   "source": [
    "Modelo Teórico:\n",
    "\n",
    "__ArrDelay = $\\beta_0$ + $\\beta_1$*DepDelay + $\\epsilon$__ \n",
    "\n",
    "\n",
    "Modelo Predictivo:\n",
    "\n",
    "__ArrDelay = -4.4 + 1.03*DepDelay__\n",
    "\n",
    "\n"
   ]
  },
  {
   "cell_type": "markdown",
   "metadata": {},
   "source": [
    "Valores Predichos y Residuos"
   ]
  },
  {
   "cell_type": "code",
   "execution_count": 8,
   "metadata": {
    "collapsed": false,
    "jupyter": {
     "outputs_hidden": false
    }
   },
   "outputs": [
    {
     "name": "stdout",
     "output_type": "stream",
     "text": [
      "+-----+--------+-------------------+-------------------+\n",
      "|label|features|         prediction|           residual|\n",
      "+-----+--------+-------------------+-------------------+\n",
      "| -7.0|  [-5.0]| -9.538741204370062|  2.538741204370062|\n",
      "| -3.0|   [5.0]| 0.7398590433874102|  -3.73985904338741|\n",
      "| -3.0|  [-3.0]| -7.483021154818568|  4.483021154818568|\n",
      "| -2.0|  [-7.0]|-11.594461253921557|  9.594461253921557|\n",
      "| -2.0|  [-6.0]| -10.56660122914581|   8.56660122914581|\n",
      "|  0.0|  [-1.0]| -5.427301105267073|  5.427301105267073|\n",
      "| -6.0|   [0.0]| -4.399441080491326| -1.600558919508674|\n",
      "|  7.0|   [0.0]| -4.399441080491326| 11.399441080491325|\n",
      "| -9.0|  [-1.0]| -5.427301105267073| -3.572698894732927|\n",
      "| -2.0|  [-1.0]| -5.427301105267073|  3.427301105267073|\n",
      "| 13.0|   [1.0]|-3.3715810557155788|  16.37158105571558|\n",
      "|-16.0|  [-2.0]|  -6.45516113004282| -9.544838869957179|\n",
      "|-21.0|  [-4.0]| -8.510881179594314|-12.489118820405686|\n",
      "|-16.0|  [-1.0]| -5.427301105267073|-10.572698894732927|\n",
      "|-11.0|   [0.0]| -4.399441080491326| -6.600558919508674|\n",
      "| -8.0|   [0.0]| -4.399441080491326| -3.600558919508674|\n",
      "| -4.0|  [13.0]|   8.96273924159339| -12.96273924159339|\n",
      "|  0.0|  [17.0]| 13.074179340696379|-13.074179340696379|\n",
      "| -2.0|  [12.0]|  7.934879216817641| -9.934879216817642|\n",
      "|  2.0|  [19.0]| 15.129899390247871|-13.129899390247871|\n",
      "+-----+--------+-------------------+-------------------+\n",
      "only showing top 20 rows\n",
      "\n"
     ]
    }
   ],
   "source": [
    "pred = pred.withColumn('residual', pred.label-pred.prediction)\n",
    "pred.show()"
   ]
  },
  {
   "cell_type": "markdown",
   "metadata": {},
   "source": [
    "Representación gráfica de resultados"
   ]
  },
  {
   "cell_type": "code",
   "execution_count": 9,
   "metadata": {
    "collapsed": false,
    "jupyter": {
     "outputs_hidden": false
    }
   },
   "outputs": [
    {
     "data": {
      "text/plain": [
       "<seaborn.axisgrid.JointGrid at 0x7f1624946f10>"
      ]
     },
     "execution_count": 9,
     "metadata": {},
     "output_type": "execute_result"
    },
    {
     "data": {
      "image/png": "[encoded data removed]",
      "text/plain": [
       "<Figure size 432x432 with 3 Axes>"
      ]
     },
     "metadata": {
      "needs_background": "light"
     },
     "output_type": "display_data"
    }
   ],
   "source": [
    "pdpred = pred.toPandas()\n",
    "sns.jointplot(x=\"prediction\", y=\"label\", data=pdpred)"
   ]
  },
  {
   "cell_type": "code",
   "execution_count": 10,
   "metadata": {
    "collapsed": false,
    "jupyter": {
     "outputs_hidden": false
    }
   },
   "outputs": [
    {
     "data": {
      "text/plain": [
       "<seaborn.axisgrid.JointGrid at 0x7f162519c760>"
      ]
     },
     "execution_count": 10,
     "metadata": {},
     "output_type": "execute_result"
    },
    {
     "data": {
      "image/png": "[encoded data removed]",
      "text/plain": [
       "<Figure size 432x432 with 3 Axes>"
      ]
     },
     "metadata": {
      "needs_background": "light"
     },
     "output_type": "display_data"
    }
   ],
   "source": [
    "sns.jointplot(x=\"prediction\", y=\"residual\", data=pdpred)"
   ]
  },
  {
   "cell_type": "markdown",
   "metadata": {},
   "source": [
    "Métricas de Evaluación (R2, RMSE, MAE)"
   ]
  },
  {
   "cell_type": "code",
   "execution_count": 11,
   "metadata": {
    "collapsed": false,
    "jupyter": {
     "outputs_hidden": false
    }
   },
   "outputs": [
    {
     "name": "stdout",
     "output_type": "stream",
     "text": [
      "15.498421344920214\n",
      "0.9161065747950514\n"
     ]
    }
   ],
   "source": [
    "from pyspark.ml.evaluation import RegressionEvaluator\n",
    "\n",
    "print(RegressionEvaluator(metricName=\"rmse\").evaluate(pred))\n",
    "print(RegressionEvaluator(metricName=\"r2\").evaluate(pred))\n"
   ]
  },
  {
   "cell_type": "markdown",
   "metadata": {},
   "source": [
    "Otros parámetros opcionales del modelo"
   ]
  },
  {
   "cell_type": "code",
   "execution_count": 10,
   "metadata": {
    "collapsed": true,
    "jupyter": {
     "outputs_hidden": true
    }
   },
   "outputs": [],
   "source": [
    "#lr = LinearRegression()\n",
    "#lr = LinearRegression(\n",
    "    #maxIter=5, \n",
    "    #regParam=0.0,\n",
    "    #elasticNetParam=0.0,\n",
    "    #solver=\"normal\", \n",
    "    #weightCol=\"weight\")"
   ]
  }
 ],
 "metadata": {
  "anaconda-cloud": {},
  "kernelspec": {
   "display_name": "Python 3 (ipykernel)",
   "language": "python",
   "name": "python3"
  },
  "language_info": {
   "codemirror_mode": {
    "name": "ipython",
    "version": 3
   },
   "file_extension": ".py",
   "mimetype": "text/x-python",
   "name": "python",
   "nbconvert_exporter": "python",
   "pygments_lexer": "ipython3",
   "version": "3.9.7"
  }
 },
 "nbformat": 4,
 "nbformat_minor": 4
}
