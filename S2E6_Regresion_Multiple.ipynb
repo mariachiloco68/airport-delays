{
 "cells": [
  {
   "cell_type": "markdown",
   "metadata": {},
   "source": [
    "# Modelo de Regresión Múltiple"
   ]
  },
  {
   "cell_type": "code",
   "execution_count": 1,
   "metadata": {
    "tags": []
   },
   "outputs": [
    {
     "name": "stderr",
     "output_type": "stream",
     "text": [
      "Using Spark's default log4j profile: org/apache/spark/log4j-defaults.properties\n",
      "Setting default log level to \"WARN\".\n",
      "To adjust logging level use sc.setLogLevel(newLevel). For SparkR, use setLogLevel(newLevel).\n",
      "22/02/22 15:40:53 WARN NativeCodeLoader: Unable to load native-hadoop library for your platform... using builtin-java classes where applicable\n",
      "22/02/22 15:40:55 WARN Utils: Service 'SparkUI' could not bind on port 4040. Attempting port 4041.\n",
      "22/02/22 15:40:55 WARN Utils: Service 'SparkUI' could not bind on port 4041. Attempting port 4042.\n",
      "/home/aldos/anaconda3/lib/python3.9/site-packages/pyspark/sql/context.py:77: FutureWarning: Deprecated in 3.0.0. Use SparkSession.builder.getOrCreate() instead.\n",
      "  warnings.warn(\n"
     ]
    }
   ],
   "source": [
    "from pyspark import SparkContext\n",
    "sc = SparkContext()\n",
    "from pyspark.sql import SQLContext\n",
    "sqlContext=SQLContext(sc)"
   ]
  },
  {
   "cell_type": "code",
   "execution_count": 2,
   "metadata": {
    "tags": []
   },
   "outputs": [
    {
     "name": "stderr",
     "output_type": "stream",
     "text": [
      "                                                                                \r"
     ]
    }
   ],
   "source": [
    "bd5 = sqlContext.read.format(\n",
    "    \"com.databricks.spark.csv\"\n",
    ").option(\"header\", \"true\").load(\"../bd5.csv\", inferSchema=True)\n",
    "sqlContext.registerDataFrameAsTable(bd5, \"bd5\")\n",
    "\n",
    "bd5 = bd5.withColumn('Horario1',(bd5.Horario==1) \n",
    ").withColumn('Horario2',(bd5.Horario==2) \n",
    ").withColumn('Horario3',(bd5.Horario==3))\n",
    "\n",
    "bd5 = bd5.withColumn('DepDelay2',(bd5.DepDelay**2)\n",
    ").withColumn('DepD_Distance',(bd5.DepDelay * bd5.Distance)) "
   ]
  },
  {
   "cell_type": "markdown",
   "metadata": {},
   "source": [
    "## Descripción Previa de la Base de Datos"
   ]
  },
  {
   "cell_type": "markdown",
   "metadata": {},
   "source": [
    "Resumen Numérico"
   ]
  },
  {
   "cell_type": "code",
   "execution_count": 3,
   "metadata": {
    "collapsed": false,
    "jupyter": {
     "outputs_hidden": false
    }
   },
   "outputs": [
    {
     "data": {
      "text/html": [
       "<div>\n",
       "<table border=\"1\" class=\"dataframe\">\n",
       "  <thead>\n",
       "    <tr style=\"text-align: right;\">\n",
       "      <th></th>\n",
       "      <th>ArrDelay</th>\n",
       "      <th>DepDelay</th>\n",
       "      <th>DayOfWeek</th>\n",
       "      <th>CRSDepTime</th>\n",
       "      <th>DepDelay2</th>\n",
       "      <th>DepD_Distance</th>\n",
       "    </tr>\n",
       "  </thead>\n",
       "  <tbody>\n",
       "    <tr>\n",
       "      <th>ArrDelay</th>\n",
       "      <td>1.000000</td>\n",
       "      <td>0.959762</td>\n",
       "      <td>0.055259</td>\n",
       "      <td>0.171944</td>\n",
       "      <td>0.750512</td>\n",
       "      <td>0.805307</td>\n",
       "    </tr>\n",
       "    <tr>\n",
       "      <th>DepDelay</th>\n",
       "      <td>0.959762</td>\n",
       "      <td>1.000000</td>\n",
       "      <td>0.052946</td>\n",
       "      <td>0.156121</td>\n",
       "      <td>0.795955</td>\n",
       "      <td>0.848215</td>\n",
       "    </tr>\n",
       "    <tr>\n",
       "      <th>DayOfWeek</th>\n",
       "      <td>0.055259</td>\n",
       "      <td>0.052946</td>\n",
       "      <td>1.000000</td>\n",
       "      <td>-0.022926</td>\n",
       "      <td>0.005808</td>\n",
       "      <td>0.043969</td>\n",
       "    </tr>\n",
       "    <tr>\n",
       "      <th>CRSDepTime</th>\n",
       "      <td>0.171944</td>\n",
       "      <td>0.156121</td>\n",
       "      <td>-0.022926</td>\n",
       "      <td>1.000000</td>\n",
       "      <td>0.068897</td>\n",
       "      <td>0.112791</td>\n",
       "    </tr>\n",
       "    <tr>\n",
       "      <th>DepDelay2</th>\n",
       "      <td>0.750512</td>\n",
       "      <td>0.795955</td>\n",
       "      <td>0.005808</td>\n",
       "      <td>0.068897</td>\n",
       "      <td>1.000000</td>\n",
       "      <td>0.747067</td>\n",
       "    </tr>\n",
       "    <tr>\n",
       "      <th>DepD_Distance</th>\n",
       "      <td>0.805307</td>\n",
       "      <td>0.848215</td>\n",
       "      <td>0.043969</td>\n",
       "      <td>0.112791</td>\n",
       "      <td>0.747067</td>\n",
       "      <td>1.000000</td>\n",
       "    </tr>\n",
       "  </tbody>\n",
       "</table>\n",
       "</div>"
      ],
      "text/plain": [
       "               ArrDelay  DepDelay  DayOfWeek  CRSDepTime  DepDelay2  \\\n",
       "ArrDelay       1.000000  0.959762   0.055259    0.171944   0.750512   \n",
       "DepDelay       0.959762  1.000000   0.052946    0.156121   0.795955   \n",
       "DayOfWeek      0.055259  0.052946   1.000000   -0.022926   0.005808   \n",
       "CRSDepTime     0.171944  0.156121  -0.022926    1.000000   0.068897   \n",
       "DepDelay2      0.750512  0.795955   0.005808    0.068897   1.000000   \n",
       "DepD_Distance  0.805307  0.848215   0.043969    0.112791   0.747067   \n",
       "\n",
       "               DepD_Distance  \n",
       "ArrDelay            0.805307  \n",
       "DepDelay            0.848215  \n",
       "DayOfWeek           0.043969  \n",
       "CRSDepTime          0.112791  \n",
       "DepDelay2           0.747067  \n",
       "DepD_Distance       1.000000  "
      ]
     },
     "execution_count": 3,
     "metadata": {},
     "output_type": "execute_result"
    }
   ],
   "source": [
    "pdf5 = bd5.sample(False, 0.1, 0).select('ArrDelay','DepDelay','DayOfWeek','CRSDepTime','DepDelay2','DepD_Distance').toPandas()\n",
    "pdf5.corr()"
   ]
  },
  {
   "cell_type": "markdown",
   "metadata": {},
   "source": [
    "Configuración de la Base de Datos"
   ]
  },
  {
   "cell_type": "code",
   "execution_count": 4,
   "metadata": {
    "collapsed": false,
    "jupyter": {
     "outputs_hidden": false
    }
   },
   "outputs": [],
   "source": [
    "from pyspark.ml.feature import VectorAssembler\n",
    "\n",
    "a1  = VectorAssembler(\n",
    "    inputCols=['DepDelay','Distance','DayOfWeek',\n",
    "               'CRSDepTime','Horario1','Horario2',\n",
    "               'Horario3','DepDelay2','DepD_Distance'],\n",
    "    outputCol='features')\n",
    "bd6 = a1.transform(bd5)"
   ]
  },
  {
   "cell_type": "code",
   "execution_count": 5,
   "metadata": {
    "collapsed": false,
    "jupyter": {
     "outputs_hidden": false
    }
   },
   "outputs": [
    {
     "name": "stdout",
     "output_type": "stream",
     "text": [
      "+-----+--------------------+\n",
      "|label|            features|\n",
      "+-----+--------------------+\n",
      "| -7.0|[-5.0,1235.0,4.0,...|\n",
      "| -3.0|[5.0,1235.0,5.0,8...|\n",
      "| -3.0|[-3.0,1235.0,6.0,...|\n",
      "| -2.0|[-7.0,1235.0,7.0,...|\n",
      "| -2.0|[-6.0,1235.0,1.0,...|\n",
      "|  0.0|[-1.0,1235.0,2.0,...|\n",
      "| -6.0|(9,[1,2,3,5],[123...|\n",
      "|  7.0|(9,[1,2,3,5],[123...|\n",
      "| -9.0|[-1.0,1235.0,5.0,...|\n",
      "| -2.0|[-1.0,1235.0,6.0,...|\n",
      "| 13.0|[1.0,1235.0,7.0,8...|\n",
      "|-16.0|[-2.0,1235.0,1.0,...|\n",
      "|-21.0|[-4.0,1235.0,2.0,...|\n",
      "|-16.0|[-1.0,1235.0,3.0,...|\n",
      "|-11.0|(9,[1,2,3,5],[123...|\n",
      "| -8.0|(9,[1,2,3,5],[123...|\n",
      "| -4.0|[13.0,1235.0,6.0,...|\n",
      "|  0.0|[17.0,1235.0,7.0,...|\n",
      "| -2.0|[12.0,1235.0,1.0,...|\n",
      "|  2.0|[19.0,1235.0,2.0,...|\n",
      "+-----+--------------------+\n",
      "only showing top 20 rows\n",
      "\n"
     ]
    }
   ],
   "source": [
    "from pyspark.sql.functions import col\n",
    "\n",
    "bd6 = bd6.select(col(\"ArrDelay\").alias(\"label\"),'features')\n",
    "bd6.show()"
   ]
  },
  {
   "cell_type": "markdown",
   "metadata": {},
   "source": [
    "## Ajuste del modelo"
   ]
  },
  {
   "cell_type": "code",
   "execution_count": 6,
   "metadata": {
    "collapsed": false,
    "jupyter": {
     "outputs_hidden": false
    }
   },
   "outputs": [
    {
     "name": "stderr",
     "output_type": "stream",
     "text": [
      "/usr/lib/spark/python/pyspark/ml/regression.py:123: UserWarning: weights is deprecated. Use coefficients instead.\n",
      "  warnings.warn(\"weights is deprecated. Use coefficients instead.\")\n"
     ]
    }
   ],
   "source": [
    "from pyspark.ml.regression import LinearRegression\n",
    "\n",
    "# Define LinearRegression algorithm\n",
    "lr = LinearRegression()\n",
    "model = lr.fit(bd6)\n",
    "pred = model.transform(bd6)"
   ]
  },
  {
   "cell_type": "code",
   "execution_count": 7,
   "metadata": {
    "collapsed": false,
    "jupyter": {
     "outputs_hidden": false
    }
   },
   "outputs": [
    {
     "name": "stdout",
     "output_type": "stream",
     "text": [
      "-4.635889634541887 [1.05553557286,-0.00289488941365,0.135668773288,0.00144922041931,-0.242298226852,1.62235576514,0.159579377181,-1.79458480022e-05,-2.10428631003e-05]\n"
     ]
    }
   ],
   "source": [
    "print(model.intercept,model.coefficients)"
   ]
  },
  {
   "cell_type": "markdown",
   "metadata": {},
   "source": [
    "Modelo Predictivo:\n",
    "\n",
    "$ Y_i = \\beta_0 + \\beta_1 X_{1i} + ... \\beta_p X_{pi} $"
   ]
  },
  {
   "cell_type": "code",
   "execution_count": 8,
   "metadata": {
    "collapsed": false,
    "jupyter": {
     "outputs_hidden": false
    },
    "scrolled": true
   },
   "outputs": [
    {
     "name": "stdout",
     "output_type": "stream",
     "text": [
      "+-----+--------------------+-------------------+-------------------+\n",
      "|label|            features|         prediction|           residual|\n",
      "+-----+--------------------+-------------------+-------------------+\n",
      "| -7.0|[-5.0,1235.0,4.0,...| -9.969642778643822| 2.9696427786438218|\n",
      "| -3.0|[5.0,1235.0,5.0,8...| 0.4615023639600766|-3.4615023639600766|\n",
      "| -3.0|[-3.0,1235.0,6.0,...|  -7.63892282463571|   4.63892282463571|\n",
      "| -2.0|[-7.0,1235.0,7.0,...| -11.62216243299346|   9.62216243299346|\n",
      "| -2.0|[-6.0,1235.0,1.0,...|-11.406394139768883|  9.406394139768883|\n",
      "|  0.0|[-1.0,1235.0,2.0,...| -6.122359077142607|  6.122359077142607|\n",
      "| -6.0|(9,[1,2,3,5],[123...|-4.9571247210745675|-1.0428752789254325|\n",
      "|  7.0|(9,[1,2,3,5],[123...| -4.821455947786069| 11.821455947786069|\n",
      "| -9.0|[-1.0,1235.0,5.0,...|-5.7153527572771115|-3.2846472427228885|\n",
      "| -2.0|[-1.0,1235.0,6.0,...|-5.5796839839886125| 3.5796839839886125|\n",
      "| 13.0|[1.0,1235.0,7.0,8...|-3.3849199368370337| 16.384919936837033|\n",
      "|-16.0|[-2.0,1235.0,1.0,...|-7.2876293249066535| -8.712370675093347|\n",
      "|-21.0|[-4.0,1235.0,2.0,...|  -9.21127117565726| -11.78872882434274|\n",
      "|-16.0|[-1.0,1235.0,3.0,...| -5.986690303854108|-10.013309696145893|\n",
      "|-11.0|(9,[1,2,3,5],[123...| -4.821455947786069| -6.178544052213931|\n",
      "| -8.0|(9,[1,2,3,5],[123...|  -4.68578717449757|-3.3142128255024303|\n",
      "| -4.0|[13.0,1235.0,6.0,...|  8.830968030588583|-12.830968030588583|\n",
      "|  0.0|[17.0,1235.0,7.0,...| 13.082673849842976|-13.082673849842976|\n",
      "| -2.0|[12.0,1235.0,1.0,...|    7.1235251734146| -9.123525173414599|\n",
      "|  2.0|[19.0,1235.0,2.0,...| 14.462133156207404|-12.462133156207404|\n",
      "+-----+--------------------+-------------------+-------------------+\n",
      "only showing top 20 rows\n",
      "\n"
     ]
    }
   ],
   "source": [
    "pred = pred.withColumn('residual', pred.label-pred.prediction)\n",
    "pred.show()"
   ]
  },
  {
   "cell_type": "code",
   "execution_count": 9,
   "metadata": {
    "collapsed": false,
    "jupyter": {
     "outputs_hidden": false
    }
   },
   "outputs": [
    {
     "name": "stdout",
     "output_type": "stream",
     "text": [
      "15.340617652785411\n",
      "10.60870150778019\n",
      "0.9178062697891254\n"
     ]
    }
   ],
   "source": [
    "from pyspark.ml.evaluation import RegressionEvaluator\n",
    "\n",
    "print(RegressionEvaluator(metricName=\"rmse\").evaluate(pred))\n",
    "print(RegressionEvaluator(metricName=\"mae\").evaluate(pred))\n",
    "print(RegressionEvaluator(metricName=\"r2\").evaluate(pred))\n"
   ]
  },
  {
   "cell_type": "code",
   "execution_count": 10,
   "metadata": {
    "collapsed": false,
    "jupyter": {
     "outputs_hidden": false
    }
   },
   "outputs": [
    {
     "data": {
      "text/plain": [
       "<seaborn.axisgrid.JointGrid at 0x7f4b3fa2f390>"
      ]
     },
     "execution_count": 10,
     "metadata": {},
     "output_type": "execute_result"
    },
    {
     "data": {
      "image/png": "[encoded data removed]",
      "text/plain": [
       "<matplotlib.figure.Figure at 0x7f4b077a49e8>"
      ]
     },
     "metadata": {},
     "output_type": "display_data"
    }
   ],
   "source": [
    "import seaborn as sns\n",
    "%matplotlib inline\n",
    "\n",
    "pdpred = pred.toPandas()\n",
    "sns.jointplot(x=\"prediction\", y=\"residual\", data=pdpred)"
   ]
  }
 ],
 "metadata": {
  "anaconda-cloud": {},
  "kernelspec": {
   "display_name": "Python 3 (ipykernel)",
   "language": "python",
   "name": "python3"
  },
  "language_info": {
   "codemirror_mode": {
    "name": "ipython",
    "version": 3
   },
   "file_extension": ".py",
   "mimetype": "text/x-python",
   "name": "python",
   "nbconvert_exporter": "python",
   "pygments_lexer": "ipython3",
   "version": "3.9.7"
  }
 },
 "nbformat": 4,
 "nbformat_minor": 4
}
