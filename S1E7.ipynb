{
 "cells": [
  {
   "cell_type": "markdown",
   "metadata": {},
   "source": [
    "# Pre-Proceso (1)\n",
    "\n",
    "\n",
    "Validación de los datos\n",
    "* Revisión de valores anómalos\n",
    "* Revisión de valores faltantes\n",
    "* Inconsistencias\n"
   ]
  },
  {
   "cell_type": "markdown",
   "metadata": {},
   "source": [
    "Definir SparkContext y SQLContext"
   ]
  },
  {
   "cell_type": "code",
   "execution_count": 1,
   "metadata": {
    "tags": []
   },
   "outputs": [
    {
     "name": "stderr",
     "output_type": "stream",
     "text": [
      "Using Spark's default log4j profile: org/apache/spark/log4j-defaults.properties\n",
      "Setting default log level to \"WARN\".\n",
      "To adjust logging level use sc.setLogLevel(newLevel). For SparkR, use setLogLevel(newLevel).\n",
      "22/02/22 11:07:18 WARN NativeCodeLoader: Unable to load native-hadoop library for your platform... using builtin-java classes where applicable\n",
      "22/02/22 11:07:20 WARN Utils: Service 'SparkUI' could not bind on port 4040. Attempting port 4041.\n",
      "22/02/22 11:07:20 WARN Utils: Service 'SparkUI' could not bind on port 4041. Attempting port 4042.\n",
      "/home/aldos/anaconda3/lib/python3.9/site-packages/pyspark/sql/context.py:77: FutureWarning: Deprecated in 3.0.0. Use SparkSession.builder.getOrCreate() instead.\n",
      "  warnings.warn(\n"
     ]
    }
   ],
   "source": [
    "from pyspark import SparkContext\n",
    "sc = SparkContext()\n",
    "from pyspark.sql import SQLContext\n",
    "sqlContext=SQLContext(sc)\n"
   ]
  },
  {
   "cell_type": "code",
   "execution_count": 2,
   "metadata": {
    "tags": []
   },
   "outputs": [
    {
     "name": "stderr",
     "output_type": "stream",
     "text": [
      "                                                                                \r"
     ]
    }
   ],
   "source": [
    "bd = sqlContext.read.format(\"com.databricks.spark.csv\"\n",
    ").option(\"header\", \"true\"\n",
    ").load(\"../On_Time_On_Time_Performance_2016_12.csv\", \n",
    "       inferSchema=True)"
   ]
  },
  {
   "cell_type": "code",
   "execution_count": 3,
   "metadata": {
    "tags": []
   },
   "outputs": [],
   "source": [
    "\n",
    "bd=bd.select('Year','Month','DayofMonth','DayOfWeek','CRSDepTime','UniqueCarrier', 'TailNum', 'ArrDelay','DepDelay','Origin','Dest','Distance','Cancelled', 'Diverted','CarrierDelay','WeatherDelay','NASDelay','SecurityDelay','LateAircraftDelay') "
   ]
  },
  {
   "cell_type": "code",
   "execution_count": 4,
   "metadata": {
    "tags": []
   },
   "outputs": [
    {
     "name": "stderr",
     "output_type": "stream",
     "text": [
      "22/02/22 11:07:48 WARN package: Truncated the string representation of a plan since it was too large. This behavior can be adjusted by setting 'spark.sql.debug.maxToStringFields'.\n"
     ]
    }
   ],
   "source": [
    "bd2 = bd.filter( bd.Origin.isin('ATL','ORD','DEN','LAX','DFW','SFO','PHX','LAS') & bd.Dest.isin(\n",
    "    'ATL','ORD','DEN','LAX','DFW','SFO','PHX','LAS') )\n",
    "\n",
    "sqlContext.registerDataFrameAsTable(bd2, \"bd2\")"
   ]
  },
  {
   "cell_type": "markdown",
   "metadata": {},
   "source": [
    "## Validación"
   ]
  },
  {
   "cell_type": "markdown",
   "metadata": {},
   "source": [
    "### Valores Anómalos"
   ]
  },
  {
   "cell_type": "code",
   "execution_count": 5,
   "metadata": {
    "collapsed": false,
    "jupyter": {
     "outputs_hidden": false
    }
   },
   "outputs": [
    {
     "name": "stderr",
     "output_type": "stream",
     "text": [
      "                                                                                \r"
     ]
    },
    {
     "name": "stdout",
     "output_type": "stream",
     "text": [
      "+-------+------------------+\n",
      "|summary|          ArrDelay|\n",
      "+-------+------------------+\n",
      "|  count|             30466|\n",
      "|   mean|13.300695857677411|\n",
      "| stddev| 53.50946738163739|\n",
      "|    min|             -53.0|\n",
      "|    max|            2028.0|\n",
      "+-------+------------------+\n",
      "\n"
     ]
    }
   ],
   "source": [
    "bd2.describe('ArrDelay').show()"
   ]
  },
  {
   "cell_type": "code",
   "execution_count": 6,
   "metadata": {
    "collapsed": false,
    "jupyter": {
     "outputs_hidden": false
    }
   },
   "outputs": [
    {
     "name": "stderr",
     "output_type": "stream",
     "text": [
      "                                                                                \r"
     ]
    },
    {
     "name": "stdout",
     "output_type": "stream",
     "text": [
      "+-------+------+-----+------------------+------------------+------------------+-------------+-------+------------------+-----------------+------+-----+-----------------+--------------------+--------------------+-----------------+------------------+------------------+--------------------+-----------------+\n",
      "|summary|  Year|Month|        DayofMonth|         DayOfWeek|        CRSDepTime|UniqueCarrier|TailNum|          ArrDelay|         DepDelay|Origin| Dest|         Distance|           Cancelled|            Diverted|     CarrierDelay|      WeatherDelay|          NASDelay|       SecurityDelay|LateAircraftDelay|\n",
      "+-------+------+-----+------------------+------------------+------------------+-------------+-------+------------------+-----------------+------+-----+-----------------+--------------------+--------------------+-----------------+------------------+------------------+--------------------+-----------------+\n",
      "|  count| 30965|30965|             30965|             30965|             30965|        30965|  30820|             30466|            30501| 30965|30965|            30965|               30965|               30965|             8401|              8401|              8401|                8401|             8401|\n",
      "|   mean|2016.0| 12.0|15.943484579363798| 4.008719522041014|1336.3809785241401|         null|   null|13.300695857677411|17.28562997934494|  null| null|932.5556596156952|0.015533667043436138|5.813014694009365E-4|17.54874419711939| 2.977978812046185|18.532674681585526|0.034638733484109036|28.28437090822521|\n",
      "| stddev|   0.0|  0.0| 8.876012086360875|1.9259616915158768|507.69693420285483|         null|   null| 53.50946738163739|49.93901250742788|  null| null|547.1294895897895| 0.12366432835495896|0.024103574850036433| 52.5742358244979|19.763653888123834| 33.10933777220974|  0.8447964060560694|52.01295584698594|\n",
      "|    min|  2016|   12|                 1|                 1|                 5|           AA| N001AA|             -53.0|            -21.0|   ATL|  ATL|            236.0|                 0.0|                 0.0|              0.0|               0.0|               0.0|                 0.0|              0.0|\n",
      "|    max|  2016|   12|                31|                 7|              2359|           WN| N999DN|            2028.0|           2040.0|   SFO|  SFO|           2139.0|                 1.0|                 1.0|           1276.0|             866.0|             407.0|                33.0|            806.0|\n",
      "+-------+------+-----+------------------+------------------+------------------+-------------+-------+------------------+-----------------+------+-----+-----------------+--------------------+--------------------+-----------------+------------------+------------------+--------------------+-----------------+\n",
      "\n"
     ]
    }
   ],
   "source": [
    "bd2.describe().show()"
   ]
  },
  {
   "cell_type": "markdown",
   "metadata": {},
   "source": [
    "Exportamos la tabla a Pandas para mejorar la visualización"
   ]
  },
  {
   "cell_type": "code",
   "execution_count": 7,
   "metadata": {
    "collapsed": false,
    "jupyter": {
     "outputs_hidden": false
    }
   },
   "outputs": [
    {
     "name": "stderr",
     "output_type": "stream",
     "text": [
      "                                                                                \r"
     ]
    },
    {
     "data": {
      "text/html": [
       "<div>\n",
       "<style scoped>\n",
       "    .dataframe tbody tr th:only-of-type {\n",
       "        vertical-align: middle;\n",
       "    }\n",
       "\n",
       "    .dataframe tbody tr th {\n",
       "        vertical-align: top;\n",
       "    }\n",
       "\n",
       "    .dataframe thead th {\n",
       "        text-align: right;\n",
       "    }\n",
       "</style>\n",
       "<table border=\"1\" class=\"dataframe\">\n",
       "  <thead>\n",
       "    <tr style=\"text-align: right;\">\n",
       "      <th>summary</th>\n",
       "      <th>count</th>\n",
       "      <th>mean</th>\n",
       "      <th>stddev</th>\n",
       "      <th>min</th>\n",
       "      <th>max</th>\n",
       "    </tr>\n",
       "  </thead>\n",
       "  <tbody>\n",
       "    <tr>\n",
       "      <th>Year</th>\n",
       "      <td>30965</td>\n",
       "      <td>2016.0</td>\n",
       "      <td>0.0</td>\n",
       "      <td>2016</td>\n",
       "      <td>2016</td>\n",
       "    </tr>\n",
       "    <tr>\n",
       "      <th>Month</th>\n",
       "      <td>30965</td>\n",
       "      <td>12.0</td>\n",
       "      <td>0.0</td>\n",
       "      <td>12</td>\n",
       "      <td>12</td>\n",
       "    </tr>\n",
       "    <tr>\n",
       "      <th>DayofMonth</th>\n",
       "      <td>30965</td>\n",
       "      <td>15.943484579363798</td>\n",
       "      <td>8.876012086360875</td>\n",
       "      <td>1</td>\n",
       "      <td>31</td>\n",
       "    </tr>\n",
       "    <tr>\n",
       "      <th>DayOfWeek</th>\n",
       "      <td>30965</td>\n",
       "      <td>4.008719522041014</td>\n",
       "      <td>1.9259616915158768</td>\n",
       "      <td>1</td>\n",
       "      <td>7</td>\n",
       "    </tr>\n",
       "    <tr>\n",
       "      <th>CRSDepTime</th>\n",
       "      <td>30965</td>\n",
       "      <td>1336.3809785241401</td>\n",
       "      <td>507.69693420285483</td>\n",
       "      <td>5</td>\n",
       "      <td>2359</td>\n",
       "    </tr>\n",
       "    <tr>\n",
       "      <th>UniqueCarrier</th>\n",
       "      <td>30965</td>\n",
       "      <td>None</td>\n",
       "      <td>None</td>\n",
       "      <td>AA</td>\n",
       "      <td>WN</td>\n",
       "    </tr>\n",
       "    <tr>\n",
       "      <th>TailNum</th>\n",
       "      <td>30820</td>\n",
       "      <td>None</td>\n",
       "      <td>None</td>\n",
       "      <td>N001AA</td>\n",
       "      <td>N999DN</td>\n",
       "    </tr>\n",
       "    <tr>\n",
       "      <th>ArrDelay</th>\n",
       "      <td>30466</td>\n",
       "      <td>13.300695857677411</td>\n",
       "      <td>53.50946738163739</td>\n",
       "      <td>-53.0</td>\n",
       "      <td>2028.0</td>\n",
       "    </tr>\n",
       "    <tr>\n",
       "      <th>DepDelay</th>\n",
       "      <td>30501</td>\n",
       "      <td>17.28562997934494</td>\n",
       "      <td>49.93901250742788</td>\n",
       "      <td>-21.0</td>\n",
       "      <td>2040.0</td>\n",
       "    </tr>\n",
       "    <tr>\n",
       "      <th>Origin</th>\n",
       "      <td>30965</td>\n",
       "      <td>None</td>\n",
       "      <td>None</td>\n",
       "      <td>ATL</td>\n",
       "      <td>SFO</td>\n",
       "    </tr>\n",
       "    <tr>\n",
       "      <th>Dest</th>\n",
       "      <td>30965</td>\n",
       "      <td>None</td>\n",
       "      <td>None</td>\n",
       "      <td>ATL</td>\n",
       "      <td>SFO</td>\n",
       "    </tr>\n",
       "    <tr>\n",
       "      <th>Distance</th>\n",
       "      <td>30965</td>\n",
       "      <td>932.5556596156952</td>\n",
       "      <td>547.1294895897895</td>\n",
       "      <td>236.0</td>\n",
       "      <td>2139.0</td>\n",
       "    </tr>\n",
       "    <tr>\n",
       "      <th>Cancelled</th>\n",
       "      <td>30965</td>\n",
       "      <td>0.015533667043436138</td>\n",
       "      <td>0.12366432835495896</td>\n",
       "      <td>0.0</td>\n",
       "      <td>1.0</td>\n",
       "    </tr>\n",
       "    <tr>\n",
       "      <th>Diverted</th>\n",
       "      <td>30965</td>\n",
       "      <td>5.813014694009365E-4</td>\n",
       "      <td>0.024103574850036433</td>\n",
       "      <td>0.0</td>\n",
       "      <td>1.0</td>\n",
       "    </tr>\n",
       "    <tr>\n",
       "      <th>CarrierDelay</th>\n",
       "      <td>8401</td>\n",
       "      <td>17.54874419711939</td>\n",
       "      <td>52.5742358244979</td>\n",
       "      <td>0.0</td>\n",
       "      <td>1276.0</td>\n",
       "    </tr>\n",
       "    <tr>\n",
       "      <th>WeatherDelay</th>\n",
       "      <td>8401</td>\n",
       "      <td>2.977978812046185</td>\n",
       "      <td>19.763653888123834</td>\n",
       "      <td>0.0</td>\n",
       "      <td>866.0</td>\n",
       "    </tr>\n",
       "    <tr>\n",
       "      <th>NASDelay</th>\n",
       "      <td>8401</td>\n",
       "      <td>18.532674681585526</td>\n",
       "      <td>33.10933777220974</td>\n",
       "      <td>0.0</td>\n",
       "      <td>407.0</td>\n",
       "    </tr>\n",
       "    <tr>\n",
       "      <th>SecurityDelay</th>\n",
       "      <td>8401</td>\n",
       "      <td>0.034638733484109036</td>\n",
       "      <td>0.8447964060560694</td>\n",
       "      <td>0.0</td>\n",
       "      <td>33.0</td>\n",
       "    </tr>\n",
       "    <tr>\n",
       "      <th>LateAircraftDelay</th>\n",
       "      <td>8401</td>\n",
       "      <td>28.28437090822521</td>\n",
       "      <td>52.01295584698594</td>\n",
       "      <td>0.0</td>\n",
       "      <td>806.0</td>\n",
       "    </tr>\n",
       "  </tbody>\n",
       "</table>\n",
       "</div>"
      ],
      "text/plain": [
       "summary            count                  mean                stddev     min  \\\n",
       "Year               30965                2016.0                   0.0    2016   \n",
       "Month              30965                  12.0                   0.0      12   \n",
       "DayofMonth         30965    15.943484579363798     8.876012086360875       1   \n",
       "DayOfWeek          30965     4.008719522041014    1.9259616915158768       1   \n",
       "CRSDepTime         30965    1336.3809785241401    507.69693420285483       5   \n",
       "UniqueCarrier      30965                  None                  None      AA   \n",
       "TailNum            30820                  None                  None  N001AA   \n",
       "ArrDelay           30466    13.300695857677411     53.50946738163739   -53.0   \n",
       "DepDelay           30501     17.28562997934494     49.93901250742788   -21.0   \n",
       "Origin             30965                  None                  None     ATL   \n",
       "Dest               30965                  None                  None     ATL   \n",
       "Distance           30965     932.5556596156952     547.1294895897895   236.0   \n",
       "Cancelled          30965  0.015533667043436138   0.12366432835495896     0.0   \n",
       "Diverted           30965  5.813014694009365E-4  0.024103574850036433     0.0   \n",
       "CarrierDelay        8401     17.54874419711939      52.5742358244979     0.0   \n",
       "WeatherDelay        8401     2.977978812046185    19.763653888123834     0.0   \n",
       "NASDelay            8401    18.532674681585526     33.10933777220974     0.0   \n",
       "SecurityDelay       8401  0.034638733484109036    0.8447964060560694     0.0   \n",
       "LateAircraftDelay   8401     28.28437090822521     52.01295584698594     0.0   \n",
       "\n",
       "summary               max  \n",
       "Year                 2016  \n",
       "Month                  12  \n",
       "DayofMonth             31  \n",
       "DayOfWeek               7  \n",
       "CRSDepTime           2359  \n",
       "UniqueCarrier          WN  \n",
       "TailNum            N999DN  \n",
       "ArrDelay           2028.0  \n",
       "DepDelay           2040.0  \n",
       "Origin                SFO  \n",
       "Dest                  SFO  \n",
       "Distance           2139.0  \n",
       "Cancelled             1.0  \n",
       "Diverted              1.0  \n",
       "CarrierDelay       1276.0  \n",
       "WeatherDelay        866.0  \n",
       "NASDelay            407.0  \n",
       "SecurityDelay        33.0  \n",
       "LateAircraftDelay   806.0  "
      ]
     },
     "execution_count": 7,
     "metadata": {},
     "output_type": "execute_result"
    }
   ],
   "source": [
    "bd2.describe().toPandas().set_index('summary').transpose()"
   ]
  },
  {
   "cell_type": "markdown",
   "metadata": {},
   "source": [
    "### Inconsistencias"
   ]
  },
  {
   "cell_type": "markdown",
   "metadata": {},
   "source": [
    "Variable Distance en función de los diferentes aeropuertos "
   ]
  },
  {
   "cell_type": "code",
   "execution_count": 8,
   "metadata": {
    "collapsed": false,
    "jupyter": {
     "outputs_hidden": false
    }
   },
   "outputs": [
    {
     "name": "stderr",
     "output_type": "stream",
     "text": [
      "[Stage 11:>                                                         (0 + 2) / 2]\r"
     ]
    },
    {
     "name": "stdout",
     "output_type": "stream",
     "text": [
      "+------+----+-------------+\n",
      "|Origin|Dest|avg(Distance)|\n",
      "+------+----+-------------+\n",
      "|   LAS| ORD|       1514.0|\n",
      "|   PHX| DFW|        868.0|\n",
      "|   LAX| DFW|       1235.0|\n",
      "|   PHX| ATL|       1587.0|\n",
      "|   ATL| ORD|        606.0|\n",
      "|   DFW| ORD|        802.0|\n",
      "|   DEN| SFO|        967.0|\n",
      "|   DFW| DEN|        641.0|\n",
      "|   PHX| ORD|       1440.0|\n",
      "|   SFO| ORD|       1846.0|\n",
      "|   ATL| DEN|       1199.0|\n",
      "|   SFO| DFW|       1464.0|\n",
      "|   DEN| LAS|        628.0|\n",
      "|   ATL| SFO|       2139.0|\n",
      "|   ATL| LAS|       1747.0|\n",
      "|   ORD| DEN|        888.0|\n",
      "|   LAS| PHX|        255.0|\n",
      "|   ATL| PHX|       1587.0|\n",
      "|   SFO| DEN|        967.0|\n",
      "|   PHX| LAS|        255.0|\n",
      "+------+----+-------------+\n",
      "only showing top 20 rows\n",
      "\n"
     ]
    },
    {
     "name": "stderr",
     "output_type": "stream",
     "text": [
      "                                                                                \r"
     ]
    }
   ],
   "source": [
    "bd2.select('Origin','Dest','Distance').groupBy('Origin','Dest').mean().show()"
   ]
  },
  {
   "cell_type": "code",
   "execution_count": 9,
   "metadata": {
    "collapsed": false,
    "jupyter": {
     "outputs_hidden": false
    }
   },
   "outputs": [
    {
     "name": "stderr",
     "output_type": "stream",
     "text": [
      "[Stage 14:=============================>                            (1 + 1) / 2]\r"
     ]
    },
    {
     "name": "stdout",
     "output_type": "stream",
     "text": [
      "+------+----+---+------+------+------+---+--------------------+\n",
      "|Origin|Dest|  n|  mean|   min|   max|dif|               stdev|\n",
      "+------+----+---+------+------+------+---+--------------------+\n",
      "|   LAS| ORD|302|1514.0|1514.0|1514.0|0.0|                 0.0|\n",
      "|   PHX| DFW|380| 868.0| 868.0| 868.0|0.0|                 0.0|\n",
      "|   LAX| DFW|531|1235.0|1235.0|1235.0|0.0|                 0.0|\n",
      "|   PHX| ATL|312|1587.0|1587.0|1587.0|0.0|1.137196389861961...|\n",
      "|   ATL| ORD|530| 606.0| 606.0| 606.0|0.0|                 0.0|\n",
      "|   DFW| ORD|578| 802.0| 802.0| 802.0|0.0|                 0.0|\n",
      "|   DEN| SFO|674| 967.0| 967.0| 967.0|0.0|                 0.0|\n",
      "|   DFW| DEN|423| 641.0| 641.0| 641.0|0.0|                 0.0|\n",
      "|   PHX| ORD|439|1440.0|1440.0|1440.0|0.0|                 0.0|\n",
      "|   SFO| ORD|667|1846.0|1846.0|1846.0|0.0|                 0.0|\n",
      "|   ATL| DEN|486|1199.0|1199.0|1199.0|0.0|                 0.0|\n",
      "|   SFO| DFW|403|1464.0|1464.0|1464.0|0.0|                 0.0|\n",
      "|   DEN| LAS|559| 628.0| 628.0| 628.0|0.0|                 0.0|\n",
      "|   ATL| SFO|278|2139.0|2139.0|2139.0|0.0|                 0.0|\n",
      "|   ATL| LAS|368|1747.0|1747.0|1747.0|0.0|                 0.0|\n",
      "|   ORD| DEN|566| 888.0| 888.0| 888.0|0.0|5.663417474825635...|\n",
      "|   LAS| PHX|451| 255.0| 255.0| 255.0|0.0|                 0.0|\n",
      "|   ATL| PHX|311|1587.0|1587.0|1587.0|0.0|                 0.0|\n",
      "|   SFO| DEN|670| 967.0| 967.0| 967.0|0.0|5.649908088204844...|\n",
      "|   PHX| LAS|457| 255.0| 255.0| 255.0|0.0|                 0.0|\n",
      "+------+----+---+------+------+------+---+--------------------+\n",
      "only showing top 20 rows\n",
      "\n"
     ]
    },
    {
     "name": "stderr",
     "output_type": "stream",
     "text": [
      "                                                                                \r"
     ]
    }
   ],
   "source": [
    "sqlContext.sql(\"select Origin, Dest, count(*) as n, mean(Distance) as mean, \\\n",
    "                min(Distance) as min , max(Distance) as max,  \\\n",
    "                max(Distance) - min(Distance) as dif, \\\n",
    "                stddev(Distance) as stdev \\\n",
    "                from bd2 \\\n",
    "                group by Origin, Dest\" ).show()"
   ]
  },
  {
   "cell_type": "code",
   "execution_count": 10,
   "metadata": {
    "collapsed": false,
    "jupyter": {
     "outputs_hidden": false
    },
    "scrolled": true
   },
   "outputs": [
    {
     "name": "stderr",
     "output_type": "stream",
     "text": [
      "                                                                                \r"
     ]
    },
    {
     "data": {
      "text/html": [
       "<div>\n",
       "<style scoped>\n",
       "    .dataframe tbody tr th:only-of-type {\n",
       "        vertical-align: middle;\n",
       "    }\n",
       "\n",
       "    .dataframe tbody tr th {\n",
       "        vertical-align: top;\n",
       "    }\n",
       "\n",
       "    .dataframe thead th {\n",
       "        text-align: right;\n",
       "    }\n",
       "</style>\n",
       "<table border=\"1\" class=\"dataframe\">\n",
       "  <thead>\n",
       "    <tr style=\"text-align: right;\">\n",
       "      <th></th>\n",
       "      <th>Origin</th>\n",
       "      <th>Dest</th>\n",
       "      <th>n</th>\n",
       "      <th>mean</th>\n",
       "      <th>min</th>\n",
       "      <th>max</th>\n",
       "      <th>dif</th>\n",
       "      <th>stdev</th>\n",
       "    </tr>\n",
       "  </thead>\n",
       "  <tbody>\n",
       "    <tr>\n",
       "      <th>0</th>\n",
       "      <td>LAS</td>\n",
       "      <td>ORD</td>\n",
       "      <td>302</td>\n",
       "      <td>1514.0</td>\n",
       "      <td>1514.0</td>\n",
       "      <td>1514.0</td>\n",
       "      <td>0.0</td>\n",
       "      <td>0.000000e+00</td>\n",
       "    </tr>\n",
       "    <tr>\n",
       "      <th>1</th>\n",
       "      <td>PHX</td>\n",
       "      <td>DFW</td>\n",
       "      <td>380</td>\n",
       "      <td>868.0</td>\n",
       "      <td>868.0</td>\n",
       "      <td>868.0</td>\n",
       "      <td>0.0</td>\n",
       "      <td>0.000000e+00</td>\n",
       "    </tr>\n",
       "    <tr>\n",
       "      <th>2</th>\n",
       "      <td>LAX</td>\n",
       "      <td>DFW</td>\n",
       "      <td>531</td>\n",
       "      <td>1235.0</td>\n",
       "      <td>1235.0</td>\n",
       "      <td>1235.0</td>\n",
       "      <td>0.0</td>\n",
       "      <td>0.000000e+00</td>\n",
       "    </tr>\n",
       "    <tr>\n",
       "      <th>3</th>\n",
       "      <td>PHX</td>\n",
       "      <td>ATL</td>\n",
       "      <td>312</td>\n",
       "      <td>1587.0</td>\n",
       "      <td>1587.0</td>\n",
       "      <td>1587.0</td>\n",
       "      <td>0.0</td>\n",
       "      <td>1.137196e-13</td>\n",
       "    </tr>\n",
       "    <tr>\n",
       "      <th>4</th>\n",
       "      <td>ATL</td>\n",
       "      <td>ORD</td>\n",
       "      <td>530</td>\n",
       "      <td>606.0</td>\n",
       "      <td>606.0</td>\n",
       "      <td>606.0</td>\n",
       "      <td>0.0</td>\n",
       "      <td>0.000000e+00</td>\n",
       "    </tr>\n",
       "    <tr>\n",
       "      <th>5</th>\n",
       "      <td>DFW</td>\n",
       "      <td>ORD</td>\n",
       "      <td>578</td>\n",
       "      <td>802.0</td>\n",
       "      <td>802.0</td>\n",
       "      <td>802.0</td>\n",
       "      <td>0.0</td>\n",
       "      <td>0.000000e+00</td>\n",
       "    </tr>\n",
       "    <tr>\n",
       "      <th>6</th>\n",
       "      <td>DEN</td>\n",
       "      <td>SFO</td>\n",
       "      <td>674</td>\n",
       "      <td>967.0</td>\n",
       "      <td>967.0</td>\n",
       "      <td>967.0</td>\n",
       "      <td>0.0</td>\n",
       "      <td>0.000000e+00</td>\n",
       "    </tr>\n",
       "    <tr>\n",
       "      <th>7</th>\n",
       "      <td>DFW</td>\n",
       "      <td>DEN</td>\n",
       "      <td>423</td>\n",
       "      <td>641.0</td>\n",
       "      <td>641.0</td>\n",
       "      <td>641.0</td>\n",
       "      <td>0.0</td>\n",
       "      <td>0.000000e+00</td>\n",
       "    </tr>\n",
       "    <tr>\n",
       "      <th>8</th>\n",
       "      <td>PHX</td>\n",
       "      <td>ORD</td>\n",
       "      <td>439</td>\n",
       "      <td>1440.0</td>\n",
       "      <td>1440.0</td>\n",
       "      <td>1440.0</td>\n",
       "      <td>0.0</td>\n",
       "      <td>0.000000e+00</td>\n",
       "    </tr>\n",
       "    <tr>\n",
       "      <th>9</th>\n",
       "      <td>SFO</td>\n",
       "      <td>ORD</td>\n",
       "      <td>667</td>\n",
       "      <td>1846.0</td>\n",
       "      <td>1846.0</td>\n",
       "      <td>1846.0</td>\n",
       "      <td>0.0</td>\n",
       "      <td>0.000000e+00</td>\n",
       "    </tr>\n",
       "    <tr>\n",
       "      <th>10</th>\n",
       "      <td>ATL</td>\n",
       "      <td>DEN</td>\n",
       "      <td>486</td>\n",
       "      <td>1199.0</td>\n",
       "      <td>1199.0</td>\n",
       "      <td>1199.0</td>\n",
       "      <td>0.0</td>\n",
       "      <td>0.000000e+00</td>\n",
       "    </tr>\n",
       "    <tr>\n",
       "      <th>11</th>\n",
       "      <td>SFO</td>\n",
       "      <td>DFW</td>\n",
       "      <td>403</td>\n",
       "      <td>1464.0</td>\n",
       "      <td>1464.0</td>\n",
       "      <td>1464.0</td>\n",
       "      <td>0.0</td>\n",
       "      <td>0.000000e+00</td>\n",
       "    </tr>\n",
       "    <tr>\n",
       "      <th>12</th>\n",
       "      <td>DEN</td>\n",
       "      <td>LAS</td>\n",
       "      <td>559</td>\n",
       "      <td>628.0</td>\n",
       "      <td>628.0</td>\n",
       "      <td>628.0</td>\n",
       "      <td>0.0</td>\n",
       "      <td>0.000000e+00</td>\n",
       "    </tr>\n",
       "    <tr>\n",
       "      <th>13</th>\n",
       "      <td>ATL</td>\n",
       "      <td>SFO</td>\n",
       "      <td>278</td>\n",
       "      <td>2139.0</td>\n",
       "      <td>2139.0</td>\n",
       "      <td>2139.0</td>\n",
       "      <td>0.0</td>\n",
       "      <td>0.000000e+00</td>\n",
       "    </tr>\n",
       "    <tr>\n",
       "      <th>14</th>\n",
       "      <td>ATL</td>\n",
       "      <td>LAS</td>\n",
       "      <td>368</td>\n",
       "      <td>1747.0</td>\n",
       "      <td>1747.0</td>\n",
       "      <td>1747.0</td>\n",
       "      <td>0.0</td>\n",
       "      <td>0.000000e+00</td>\n",
       "    </tr>\n",
       "    <tr>\n",
       "      <th>15</th>\n",
       "      <td>ORD</td>\n",
       "      <td>DEN</td>\n",
       "      <td>566</td>\n",
       "      <td>888.0</td>\n",
       "      <td>888.0</td>\n",
       "      <td>888.0</td>\n",
       "      <td>0.0</td>\n",
       "      <td>5.663417e-14</td>\n",
       "    </tr>\n",
       "    <tr>\n",
       "      <th>16</th>\n",
       "      <td>LAS</td>\n",
       "      <td>PHX</td>\n",
       "      <td>451</td>\n",
       "      <td>255.0</td>\n",
       "      <td>255.0</td>\n",
       "      <td>255.0</td>\n",
       "      <td>0.0</td>\n",
       "      <td>0.000000e+00</td>\n",
       "    </tr>\n",
       "    <tr>\n",
       "      <th>17</th>\n",
       "      <td>ATL</td>\n",
       "      <td>PHX</td>\n",
       "      <td>311</td>\n",
       "      <td>1587.0</td>\n",
       "      <td>1587.0</td>\n",
       "      <td>1587.0</td>\n",
       "      <td>0.0</td>\n",
       "      <td>0.000000e+00</td>\n",
       "    </tr>\n",
       "    <tr>\n",
       "      <th>18</th>\n",
       "      <td>SFO</td>\n",
       "      <td>DEN</td>\n",
       "      <td>670</td>\n",
       "      <td>967.0</td>\n",
       "      <td>967.0</td>\n",
       "      <td>967.0</td>\n",
       "      <td>0.0</td>\n",
       "      <td>5.649908e-14</td>\n",
       "    </tr>\n",
       "    <tr>\n",
       "      <th>19</th>\n",
       "      <td>PHX</td>\n",
       "      <td>LAS</td>\n",
       "      <td>457</td>\n",
       "      <td>255.0</td>\n",
       "      <td>255.0</td>\n",
       "      <td>255.0</td>\n",
       "      <td>0.0</td>\n",
       "      <td>0.000000e+00</td>\n",
       "    </tr>\n",
       "    <tr>\n",
       "      <th>20</th>\n",
       "      <td>ORD</td>\n",
       "      <td>ATL</td>\n",
       "      <td>541</td>\n",
       "      <td>606.0</td>\n",
       "      <td>606.0</td>\n",
       "      <td>606.0</td>\n",
       "      <td>0.0</td>\n",
       "      <td>0.000000e+00</td>\n",
       "    </tr>\n",
       "    <tr>\n",
       "      <th>21</th>\n",
       "      <td>LAX</td>\n",
       "      <td>PHX</td>\n",
       "      <td>605</td>\n",
       "      <td>370.0</td>\n",
       "      <td>370.0</td>\n",
       "      <td>370.0</td>\n",
       "      <td>0.0</td>\n",
       "      <td>0.000000e+00</td>\n",
       "    </tr>\n",
       "    <tr>\n",
       "      <th>22</th>\n",
       "      <td>LAS</td>\n",
       "      <td>DEN</td>\n",
       "      <td>560</td>\n",
       "      <td>628.0</td>\n",
       "      <td>628.0</td>\n",
       "      <td>628.0</td>\n",
       "      <td>0.0</td>\n",
       "      <td>0.000000e+00</td>\n",
       "    </tr>\n",
       "    <tr>\n",
       "      <th>23</th>\n",
       "      <td>SFO</td>\n",
       "      <td>LAS</td>\n",
       "      <td>689</td>\n",
       "      <td>414.0</td>\n",
       "      <td>414.0</td>\n",
       "      <td>414.0</td>\n",
       "      <td>0.0</td>\n",
       "      <td>0.000000e+00</td>\n",
       "    </tr>\n",
       "    <tr>\n",
       "      <th>24</th>\n",
       "      <td>DEN</td>\n",
       "      <td>LAX</td>\n",
       "      <td>609</td>\n",
       "      <td>862.0</td>\n",
       "      <td>862.0</td>\n",
       "      <td>862.0</td>\n",
       "      <td>0.0</td>\n",
       "      <td>0.000000e+00</td>\n",
       "    </tr>\n",
       "    <tr>\n",
       "      <th>25</th>\n",
       "      <td>SFO</td>\n",
       "      <td>ATL</td>\n",
       "      <td>280</td>\n",
       "      <td>2139.0</td>\n",
       "      <td>2139.0</td>\n",
       "      <td>2139.0</td>\n",
       "      <td>0.0</td>\n",
       "      <td>0.000000e+00</td>\n",
       "    </tr>\n",
       "    <tr>\n",
       "      <th>26</th>\n",
       "      <td>ORD</td>\n",
       "      <td>DFW</td>\n",
       "      <td>564</td>\n",
       "      <td>802.0</td>\n",
       "      <td>802.0</td>\n",
       "      <td>802.0</td>\n",
       "      <td>0.0</td>\n",
       "      <td>0.000000e+00</td>\n",
       "    </tr>\n",
       "    <tr>\n",
       "      <th>27</th>\n",
       "      <td>DFW</td>\n",
       "      <td>ATL</td>\n",
       "      <td>585</td>\n",
       "      <td>731.0</td>\n",
       "      <td>731.0</td>\n",
       "      <td>731.0</td>\n",
       "      <td>0.0</td>\n",
       "      <td>0.000000e+00</td>\n",
       "    </tr>\n",
       "    <tr>\n",
       "      <th>28</th>\n",
       "      <td>DFW</td>\n",
       "      <td>PHX</td>\n",
       "      <td>385</td>\n",
       "      <td>868.0</td>\n",
       "      <td>868.0</td>\n",
       "      <td>868.0</td>\n",
       "      <td>0.0</td>\n",
       "      <td>0.000000e+00</td>\n",
       "    </tr>\n",
       "    <tr>\n",
       "      <th>29</th>\n",
       "      <td>DEN</td>\n",
       "      <td>ORD</td>\n",
       "      <td>535</td>\n",
       "      <td>888.0</td>\n",
       "      <td>888.0</td>\n",
       "      <td>888.0</td>\n",
       "      <td>0.0</td>\n",
       "      <td>0.000000e+00</td>\n",
       "    </tr>\n",
       "    <tr>\n",
       "      <th>30</th>\n",
       "      <td>LAX</td>\n",
       "      <td>DEN</td>\n",
       "      <td>578</td>\n",
       "      <td>862.0</td>\n",
       "      <td>862.0</td>\n",
       "      <td>862.0</td>\n",
       "      <td>0.0</td>\n",
       "      <td>0.000000e+00</td>\n",
       "    </tr>\n",
       "    <tr>\n",
       "      <th>31</th>\n",
       "      <td>LAX</td>\n",
       "      <td>SFO</td>\n",
       "      <td>1285</td>\n",
       "      <td>337.0</td>\n",
       "      <td>337.0</td>\n",
       "      <td>337.0</td>\n",
       "      <td>0.0</td>\n",
       "      <td>0.000000e+00</td>\n",
       "    </tr>\n",
       "    <tr>\n",
       "      <th>32</th>\n",
       "      <td>LAS</td>\n",
       "      <td>ATL</td>\n",
       "      <td>366</td>\n",
       "      <td>1747.0</td>\n",
       "      <td>1747.0</td>\n",
       "      <td>1747.0</td>\n",
       "      <td>0.0</td>\n",
       "      <td>0.000000e+00</td>\n",
       "    </tr>\n",
       "    <tr>\n",
       "      <th>33</th>\n",
       "      <td>LAS</td>\n",
       "      <td>DFW</td>\n",
       "      <td>359</td>\n",
       "      <td>1055.0</td>\n",
       "      <td>1055.0</td>\n",
       "      <td>1055.0</td>\n",
       "      <td>0.0</td>\n",
       "      <td>0.000000e+00</td>\n",
       "    </tr>\n",
       "    <tr>\n",
       "      <th>34</th>\n",
       "      <td>DFW</td>\n",
       "      <td>LAS</td>\n",
       "      <td>360</td>\n",
       "      <td>1055.0</td>\n",
       "      <td>1055.0</td>\n",
       "      <td>1055.0</td>\n",
       "      <td>0.0</td>\n",
       "      <td>0.000000e+00</td>\n",
       "    </tr>\n",
       "    <tr>\n",
       "      <th>35</th>\n",
       "      <td>DEN</td>\n",
       "      <td>ATL</td>\n",
       "      <td>473</td>\n",
       "      <td>1199.0</td>\n",
       "      <td>1199.0</td>\n",
       "      <td>1199.0</td>\n",
       "      <td>0.0</td>\n",
       "      <td>0.000000e+00</td>\n",
       "    </tr>\n",
       "    <tr>\n",
       "      <th>36</th>\n",
       "      <td>PHX</td>\n",
       "      <td>DEN</td>\n",
       "      <td>684</td>\n",
       "      <td>602.0</td>\n",
       "      <td>602.0</td>\n",
       "      <td>602.0</td>\n",
       "      <td>0.0</td>\n",
       "      <td>0.000000e+00</td>\n",
       "    </tr>\n",
       "    <tr>\n",
       "      <th>37</th>\n",
       "      <td>DFW</td>\n",
       "      <td>LAX</td>\n",
       "      <td>531</td>\n",
       "      <td>1235.0</td>\n",
       "      <td>1235.0</td>\n",
       "      <td>1235.0</td>\n",
       "      <td>0.0</td>\n",
       "      <td>0.000000e+00</td>\n",
       "    </tr>\n",
       "    <tr>\n",
       "      <th>38</th>\n",
       "      <td>LAX</td>\n",
       "      <td>ATL</td>\n",
       "      <td>537</td>\n",
       "      <td>1946.0</td>\n",
       "      <td>1946.0</td>\n",
       "      <td>1946.0</td>\n",
       "      <td>0.0</td>\n",
       "      <td>0.000000e+00</td>\n",
       "    </tr>\n",
       "    <tr>\n",
       "      <th>39</th>\n",
       "      <td>LAS</td>\n",
       "      <td>LAX</td>\n",
       "      <td>998</td>\n",
       "      <td>236.0</td>\n",
       "      <td>236.0</td>\n",
       "      <td>236.0</td>\n",
       "      <td>0.0</td>\n",
       "      <td>0.000000e+00</td>\n",
       "    </tr>\n",
       "    <tr>\n",
       "      <th>40</th>\n",
       "      <td>ORD</td>\n",
       "      <td>PHX</td>\n",
       "      <td>439</td>\n",
       "      <td>1440.0</td>\n",
       "      <td>1440.0</td>\n",
       "      <td>1440.0</td>\n",
       "      <td>0.0</td>\n",
       "      <td>0.000000e+00</td>\n",
       "    </tr>\n",
       "    <tr>\n",
       "      <th>41</th>\n",
       "      <td>ATL</td>\n",
       "      <td>LAX</td>\n",
       "      <td>541</td>\n",
       "      <td>1946.0</td>\n",
       "      <td>1946.0</td>\n",
       "      <td>1946.0</td>\n",
       "      <td>0.0</td>\n",
       "      <td>0.000000e+00</td>\n",
       "    </tr>\n",
       "    <tr>\n",
       "      <th>42</th>\n",
       "      <td>LAS</td>\n",
       "      <td>SFO</td>\n",
       "      <td>692</td>\n",
       "      <td>414.0</td>\n",
       "      <td>414.0</td>\n",
       "      <td>414.0</td>\n",
       "      <td>0.0</td>\n",
       "      <td>0.000000e+00</td>\n",
       "    </tr>\n",
       "    <tr>\n",
       "      <th>43</th>\n",
       "      <td>ORD</td>\n",
       "      <td>SFO</td>\n",
       "      <td>666</td>\n",
       "      <td>1846.0</td>\n",
       "      <td>1846.0</td>\n",
       "      <td>1846.0</td>\n",
       "      <td>0.0</td>\n",
       "      <td>0.000000e+00</td>\n",
       "    </tr>\n",
       "    <tr>\n",
       "      <th>44</th>\n",
       "      <td>DFW</td>\n",
       "      <td>SFO</td>\n",
       "      <td>402</td>\n",
       "      <td>1464.0</td>\n",
       "      <td>1464.0</td>\n",
       "      <td>1464.0</td>\n",
       "      <td>0.0</td>\n",
       "      <td>0.000000e+00</td>\n",
       "    </tr>\n",
       "    <tr>\n",
       "      <th>45</th>\n",
       "      <td>PHX</td>\n",
       "      <td>LAX</td>\n",
       "      <td>597</td>\n",
       "      <td>370.0</td>\n",
       "      <td>370.0</td>\n",
       "      <td>370.0</td>\n",
       "      <td>0.0</td>\n",
       "      <td>2.834957e-14</td>\n",
       "    </tr>\n",
       "    <tr>\n",
       "      <th>46</th>\n",
       "      <td>DEN</td>\n",
       "      <td>DFW</td>\n",
       "      <td>453</td>\n",
       "      <td>641.0</td>\n",
       "      <td>641.0</td>\n",
       "      <td>641.0</td>\n",
       "      <td>0.0</td>\n",
       "      <td>0.000000e+00</td>\n",
       "    </tr>\n",
       "    <tr>\n",
       "      <th>47</th>\n",
       "      <td>SFO</td>\n",
       "      <td>LAX</td>\n",
       "      <td>1324</td>\n",
       "      <td>337.0</td>\n",
       "      <td>337.0</td>\n",
       "      <td>337.0</td>\n",
       "      <td>0.0</td>\n",
       "      <td>0.000000e+00</td>\n",
       "    </tr>\n",
       "    <tr>\n",
       "      <th>48</th>\n",
       "      <td>DEN</td>\n",
       "      <td>PHX</td>\n",
       "      <td>680</td>\n",
       "      <td>602.0</td>\n",
       "      <td>602.0</td>\n",
       "      <td>602.0</td>\n",
       "      <td>0.0</td>\n",
       "      <td>0.000000e+00</td>\n",
       "    </tr>\n",
       "    <tr>\n",
       "      <th>49</th>\n",
       "      <td>SFO</td>\n",
       "      <td>PHX</td>\n",
       "      <td>431</td>\n",
       "      <td>651.0</td>\n",
       "      <td>651.0</td>\n",
       "      <td>651.0</td>\n",
       "      <td>0.0</td>\n",
       "      <td>0.000000e+00</td>\n",
       "    </tr>\n",
       "    <tr>\n",
       "      <th>50</th>\n",
       "      <td>LAX</td>\n",
       "      <td>ORD</td>\n",
       "      <td>778</td>\n",
       "      <td>1744.0</td>\n",
       "      <td>1744.0</td>\n",
       "      <td>1744.0</td>\n",
       "      <td>0.0</td>\n",
       "      <td>0.000000e+00</td>\n",
       "    </tr>\n",
       "    <tr>\n",
       "      <th>51</th>\n",
       "      <td>LAX</td>\n",
       "      <td>LAS</td>\n",
       "      <td>994</td>\n",
       "      <td>236.0</td>\n",
       "      <td>236.0</td>\n",
       "      <td>236.0</td>\n",
       "      <td>0.0</td>\n",
       "      <td>0.000000e+00</td>\n",
       "    </tr>\n",
       "    <tr>\n",
       "      <th>52</th>\n",
       "      <td>ORD</td>\n",
       "      <td>LAS</td>\n",
       "      <td>299</td>\n",
       "      <td>1514.0</td>\n",
       "      <td>1514.0</td>\n",
       "      <td>1514.0</td>\n",
       "      <td>0.0</td>\n",
       "      <td>0.000000e+00</td>\n",
       "    </tr>\n",
       "    <tr>\n",
       "      <th>53</th>\n",
       "      <td>PHX</td>\n",
       "      <td>SFO</td>\n",
       "      <td>433</td>\n",
       "      <td>651.0</td>\n",
       "      <td>651.0</td>\n",
       "      <td>651.0</td>\n",
       "      <td>0.0</td>\n",
       "      <td>0.000000e+00</td>\n",
       "    </tr>\n",
       "    <tr>\n",
       "      <th>54</th>\n",
       "      <td>ATL</td>\n",
       "      <td>DFW</td>\n",
       "      <td>585</td>\n",
       "      <td>731.0</td>\n",
       "      <td>731.0</td>\n",
       "      <td>731.0</td>\n",
       "      <td>0.0</td>\n",
       "      <td>0.000000e+00</td>\n",
       "    </tr>\n",
       "    <tr>\n",
       "      <th>55</th>\n",
       "      <td>ORD</td>\n",
       "      <td>LAX</td>\n",
       "      <td>742</td>\n",
       "      <td>1744.0</td>\n",
       "      <td>1744.0</td>\n",
       "      <td>1744.0</td>\n",
       "      <td>0.0</td>\n",
       "      <td>0.000000e+00</td>\n",
       "    </tr>\n",
       "  </tbody>\n",
       "</table>\n",
       "</div>"
      ],
      "text/plain": [
       "   Origin Dest     n    mean     min     max  dif         stdev\n",
       "0     LAS  ORD   302  1514.0  1514.0  1514.0  0.0  0.000000e+00\n",
       "1     PHX  DFW   380   868.0   868.0   868.0  0.0  0.000000e+00\n",
       "2     LAX  DFW   531  1235.0  1235.0  1235.0  0.0  0.000000e+00\n",
       "3     PHX  ATL   312  1587.0  1587.0  1587.0  0.0  1.137196e-13\n",
       "4     ATL  ORD   530   606.0   606.0   606.0  0.0  0.000000e+00\n",
       "5     DFW  ORD   578   802.0   802.0   802.0  0.0  0.000000e+00\n",
       "6     DEN  SFO   674   967.0   967.0   967.0  0.0  0.000000e+00\n",
       "7     DFW  DEN   423   641.0   641.0   641.0  0.0  0.000000e+00\n",
       "8     PHX  ORD   439  1440.0  1440.0  1440.0  0.0  0.000000e+00\n",
       "9     SFO  ORD   667  1846.0  1846.0  1846.0  0.0  0.000000e+00\n",
       "10    ATL  DEN   486  1199.0  1199.0  1199.0  0.0  0.000000e+00\n",
       "11    SFO  DFW   403  1464.0  1464.0  1464.0  0.0  0.000000e+00\n",
       "12    DEN  LAS   559   628.0   628.0   628.0  0.0  0.000000e+00\n",
       "13    ATL  SFO   278  2139.0  2139.0  2139.0  0.0  0.000000e+00\n",
       "14    ATL  LAS   368  1747.0  1747.0  1747.0  0.0  0.000000e+00\n",
       "15    ORD  DEN   566   888.0   888.0   888.0  0.0  5.663417e-14\n",
       "16    LAS  PHX   451   255.0   255.0   255.0  0.0  0.000000e+00\n",
       "17    ATL  PHX   311  1587.0  1587.0  1587.0  0.0  0.000000e+00\n",
       "18    SFO  DEN   670   967.0   967.0   967.0  0.0  5.649908e-14\n",
       "19    PHX  LAS   457   255.0   255.0   255.0  0.0  0.000000e+00\n",
       "20    ORD  ATL   541   606.0   606.0   606.0  0.0  0.000000e+00\n",
       "21    LAX  PHX   605   370.0   370.0   370.0  0.0  0.000000e+00\n",
       "22    LAS  DEN   560   628.0   628.0   628.0  0.0  0.000000e+00\n",
       "23    SFO  LAS   689   414.0   414.0   414.0  0.0  0.000000e+00\n",
       "24    DEN  LAX   609   862.0   862.0   862.0  0.0  0.000000e+00\n",
       "25    SFO  ATL   280  2139.0  2139.0  2139.0  0.0  0.000000e+00\n",
       "26    ORD  DFW   564   802.0   802.0   802.0  0.0  0.000000e+00\n",
       "27    DFW  ATL   585   731.0   731.0   731.0  0.0  0.000000e+00\n",
       "28    DFW  PHX   385   868.0   868.0   868.0  0.0  0.000000e+00\n",
       "29    DEN  ORD   535   888.0   888.0   888.0  0.0  0.000000e+00\n",
       "30    LAX  DEN   578   862.0   862.0   862.0  0.0  0.000000e+00\n",
       "31    LAX  SFO  1285   337.0   337.0   337.0  0.0  0.000000e+00\n",
       "32    LAS  ATL   366  1747.0  1747.0  1747.0  0.0  0.000000e+00\n",
       "33    LAS  DFW   359  1055.0  1055.0  1055.0  0.0  0.000000e+00\n",
       "34    DFW  LAS   360  1055.0  1055.0  1055.0  0.0  0.000000e+00\n",
       "35    DEN  ATL   473  1199.0  1199.0  1199.0  0.0  0.000000e+00\n",
       "36    PHX  DEN   684   602.0   602.0   602.0  0.0  0.000000e+00\n",
       "37    DFW  LAX   531  1235.0  1235.0  1235.0  0.0  0.000000e+00\n",
       "38    LAX  ATL   537  1946.0  1946.0  1946.0  0.0  0.000000e+00\n",
       "39    LAS  LAX   998   236.0   236.0   236.0  0.0  0.000000e+00\n",
       "40    ORD  PHX   439  1440.0  1440.0  1440.0  0.0  0.000000e+00\n",
       "41    ATL  LAX   541  1946.0  1946.0  1946.0  0.0  0.000000e+00\n",
       "42    LAS  SFO   692   414.0   414.0   414.0  0.0  0.000000e+00\n",
       "43    ORD  SFO   666  1846.0  1846.0  1846.0  0.0  0.000000e+00\n",
       "44    DFW  SFO   402  1464.0  1464.0  1464.0  0.0  0.000000e+00\n",
       "45    PHX  LAX   597   370.0   370.0   370.0  0.0  2.834957e-14\n",
       "46    DEN  DFW   453   641.0   641.0   641.0  0.0  0.000000e+00\n",
       "47    SFO  LAX  1324   337.0   337.0   337.0  0.0  0.000000e+00\n",
       "48    DEN  PHX   680   602.0   602.0   602.0  0.0  0.000000e+00\n",
       "49    SFO  PHX   431   651.0   651.0   651.0  0.0  0.000000e+00\n",
       "50    LAX  ORD   778  1744.0  1744.0  1744.0  0.0  0.000000e+00\n",
       "51    LAX  LAS   994   236.0   236.0   236.0  0.0  0.000000e+00\n",
       "52    ORD  LAS   299  1514.0  1514.0  1514.0  0.0  0.000000e+00\n",
       "53    PHX  SFO   433   651.0   651.0   651.0  0.0  0.000000e+00\n",
       "54    ATL  DFW   585   731.0   731.0   731.0  0.0  0.000000e+00\n",
       "55    ORD  LAX   742  1744.0  1744.0  1744.0  0.0  0.000000e+00"
      ]
     },
     "execution_count": 10,
     "metadata": {},
     "output_type": "execute_result"
    }
   ],
   "source": [
    "sqlContext.sql(\"select Origin, Dest, count(*) as n, mean(Distance) as mean, \\\n",
    "                min(Distance) as min , max(Distance) as max,  \\\n",
    "                max(Distance) - min(Distance) as dif, \\\n",
    "                stddev(Distance) as stdev \\\n",
    "                from bd2 \\\n",
    "                group by Origin, Dest\" ).toPandas()"
   ]
  },
  {
   "cell_type": "markdown",
   "metadata": {},
   "source": [
    "### Valores Faltantes"
   ]
  },
  {
   "cell_type": "code",
   "execution_count": 11,
   "metadata": {
    "collapsed": false,
    "jupyter": {
     "outputs_hidden": false
    }
   },
   "outputs": [
    {
     "name": "stderr",
     "output_type": "stream",
     "text": [
      "                                                                                \r"
     ]
    },
    {
     "data": {
      "text/plain": [
       "summary              count\n",
       "Year                 30965\n",
       "Month                30965\n",
       "DayofMonth           30965\n",
       "DayOfWeek            30965\n",
       "CRSDepTime           30965\n",
       "UniqueCarrier        30965\n",
       "TailNum              30820\n",
       "ArrDelay             30466\n",
       "DepDelay             30501\n",
       "Origin               30965\n",
       "Dest                 30965\n",
       "Distance             30965\n",
       "Cancelled            30965\n",
       "Diverted             30965\n",
       "CarrierDelay          8401\n",
       "WeatherDelay          8401\n",
       "NASDelay              8401\n",
       "SecurityDelay         8401\n",
       "LateAircraftDelay     8401\n",
       "Name: 0, dtype: object"
      ]
     },
     "execution_count": 11,
     "metadata": {},
     "output_type": "execute_result"
    }
   ],
   "source": [
    "bd2.describe().toPandas().transpose()[0]"
   ]
  },
  {
   "cell_type": "markdown",
   "metadata": {},
   "source": [
    "Valores faltantes en ArrDelay"
   ]
  },
  {
   "cell_type": "code",
   "execution_count": 12,
   "metadata": {
    "collapsed": false,
    "jupyter": {
     "outputs_hidden": false
    }
   },
   "outputs": [
    {
     "name": "stderr",
     "output_type": "stream",
     "text": [
      "                                                                                \r"
     ]
    },
    {
     "data": {
      "text/plain": [
       "30965"
      ]
     },
     "execution_count": 12,
     "metadata": {},
     "output_type": "execute_result"
    }
   ],
   "source": [
    "bd2.select('ArrDelay').count()"
   ]
  },
  {
   "cell_type": "code",
   "execution_count": 13,
   "metadata": {
    "collapsed": false,
    "jupyter": {
     "outputs_hidden": false
    }
   },
   "outputs": [
    {
     "name": "stderr",
     "output_type": "stream",
     "text": [
      "                                                                                \r"
     ]
    },
    {
     "data": {
      "text/plain": [
       "[Row(summary='count', Year='30965', ArrDelay='30466')]"
      ]
     },
     "execution_count": 13,
     "metadata": {},
     "output_type": "execute_result"
    }
   ],
   "source": [
    "from pyspark.sql.functions import col\n",
    "bd2.describe('Year','ArrDelay').filter(col(\"summary\") == \"count\").collect()"
   ]
  },
  {
   "cell_type": "code",
   "execution_count": 14,
   "metadata": {
    "collapsed": false,
    "jupyter": {
     "outputs_hidden": false
    }
   },
   "outputs": [
    {
     "name": "stderr",
     "output_type": "stream",
     "text": [
      "                                                                                \r"
     ]
    },
    {
     "data": {
      "text/plain": [
       "499"
      ]
     },
     "execution_count": 14,
     "metadata": {},
     "output_type": "execute_result"
    }
   ],
   "source": [
    "bd2.select('ArrDelay').count() - bd2.select('ArrDelay').dropna().count()"
   ]
  },
  {
   "cell_type": "markdown",
   "metadata": {},
   "source": [
    "Los valores faltantes en ArrDelay son causados por vuelos cancelados o desviados"
   ]
  },
  {
   "cell_type": "code",
   "execution_count": 15,
   "metadata": {
    "collapsed": false,
    "jupyter": {
     "outputs_hidden": false
    }
   },
   "outputs": [
    {
     "name": "stderr",
     "output_type": "stream",
     "text": [
      "[Stage 35:>                                                         (0 + 2) / 2]\r"
     ]
    },
    {
     "name": "stdout",
     "output_type": "stream",
     "text": [
      "+--------------+-------------+\n",
      "|sum(Cancelled)|sum(Diverted)|\n",
      "+--------------+-------------+\n",
      "|         481.0|         18.0|\n",
      "+--------------+-------------+\n",
      "\n"
     ]
    },
    {
     "name": "stderr",
     "output_type": "stream",
     "text": [
      "                                                                                \r"
     ]
    }
   ],
   "source": [
    "bd2.select('Cancelled','Diverted').groupBy().sum().show()"
   ]
  },
  {
   "cell_type": "code",
   "execution_count": 16,
   "metadata": {
    "tags": []
   },
   "outputs": [],
   "source": [
    "bd3 = bd2.filter(bd2.Cancelled==0\n",
    ").filter(bd2.Diverted==0)"
   ]
  },
  {
   "cell_type": "code",
   "execution_count": 17,
   "metadata": {
    "collapsed": false,
    "jupyter": {
     "outputs_hidden": false
    }
   },
   "outputs": [
    {
     "name": "stderr",
     "output_type": "stream",
     "text": [
      "                                                                                \r"
     ]
    },
    {
     "data": {
      "text/plain": [
       "summary              count\n",
       "Year                 30466\n",
       "Month                30466\n",
       "DayofMonth           30466\n",
       "DayOfWeek            30466\n",
       "CRSDepTime           30466\n",
       "UniqueCarrier        30466\n",
       "TailNum              30466\n",
       "ArrDelay             30466\n",
       "DepDelay             30466\n",
       "Origin               30466\n",
       "Dest                 30466\n",
       "Distance             30466\n",
       "Cancelled            30466\n",
       "Diverted             30466\n",
       "CarrierDelay          8401\n",
       "WeatherDelay          8401\n",
       "NASDelay              8401\n",
       "SecurityDelay         8401\n",
       "LateAircraftDelay     8401\n",
       "Name: 0, dtype: object"
      ]
     },
     "execution_count": 17,
     "metadata": {},
     "output_type": "execute_result"
    }
   ],
   "source": [
    "bd3.describe().toPandas().transpose()[0]"
   ]
  },
  {
   "cell_type": "markdown",
   "metadata": {},
   "source": [
    "Valores faltantes en Tipos de *Delay*"
   ]
  },
  {
   "cell_type": "code",
   "execution_count": 18,
   "metadata": {
    "collapsed": false,
    "jupyter": {
     "outputs_hidden": false
    }
   },
   "outputs": [
    {
     "name": "stdout",
     "output_type": "stream",
     "text": [
      "+--------+------------+------------+--------+-------------+-----------------+\n",
      "|ArrDelay|CarrierDelay|WeatherDelay|NASDelay|SecurityDelay|LateAircraftDelay|\n",
      "+--------+------------+------------+--------+-------------+-----------------+\n",
      "|    -7.0|        null|        null|    null|         null|             null|\n",
      "|    -3.0|        null|        null|    null|         null|             null|\n",
      "|    -3.0|        null|        null|    null|         null|             null|\n",
      "|    -2.0|        null|        null|    null|         null|             null|\n",
      "|    -2.0|        null|        null|    null|         null|             null|\n",
      "|    -6.0|        null|        null|    null|         null|             null|\n",
      "|    -9.0|        null|        null|    null|         null|             null|\n",
      "|    -2.0|        null|        null|    null|         null|             null|\n",
      "|   -16.0|        null|        null|    null|         null|             null|\n",
      "|   -21.0|        null|        null|    null|         null|             null|\n",
      "|   -16.0|        null|        null|    null|         null|             null|\n",
      "|   -11.0|        null|        null|    null|         null|             null|\n",
      "|    -8.0|        null|        null|    null|         null|             null|\n",
      "|    -4.0|        null|        null|    null|         null|             null|\n",
      "|    -2.0|        null|        null|    null|         null|             null|\n",
      "|   -11.0|        null|        null|    null|         null|             null|\n",
      "|   -10.0|        null|        null|    null|         null|             null|\n",
      "|    -9.0|        null|        null|    null|         null|             null|\n",
      "|    -9.0|        null|        null|    null|         null|             null|\n",
      "|   -31.0|        null|        null|    null|         null|             null|\n",
      "+--------+------------+------------+--------+-------------+-----------------+\n",
      "only showing top 20 rows\n",
      "\n"
     ]
    }
   ],
   "source": [
    "bd3.filter(bd3.ArrDelay<0).select('ArrDelay','CarrierDelay','WeatherDelay',\n",
    "                                  'NASDelay','SecurityDelay','LateAircraftDelay').show(20)"
   ]
  },
  {
   "cell_type": "code",
   "execution_count": 19,
   "metadata": {
    "collapsed": false,
    "jupyter": {
     "outputs_hidden": false
    }
   },
   "outputs": [
    {
     "name": "stdout",
     "output_type": "stream",
     "text": [
      "+--------+------------+------------+--------+-------------+-----------------+\n",
      "|ArrDelay|CarrierDelay|WeatherDelay|NASDelay|SecurityDelay|LateAircraftDelay|\n",
      "+--------+------------+------------+--------+-------------+-----------------+\n",
      "|     0.0|        null|        null|    null|         null|             null|\n",
      "|     7.0|        null|        null|    null|         null|             null|\n",
      "|    13.0|        null|        null|    null|         null|             null|\n",
      "|     0.0|        null|        null|    null|         null|             null|\n",
      "|     2.0|        null|        null|    null|         null|             null|\n",
      "|     1.0|        null|        null|    null|         null|             null|\n",
      "|    13.0|        null|        null|    null|         null|             null|\n",
      "|    10.0|        null|        null|    null|         null|             null|\n",
      "|     8.0|        null|        null|    null|         null|             null|\n",
      "|    51.0|         0.0|         0.0|    51.0|          0.0|              0.0|\n",
      "|    16.0|         0.0|         0.0|    16.0|          0.0|              0.0|\n",
      "|    30.0|        30.0|         0.0|     0.0|          0.0|              0.0|\n",
      "|    16.0|         0.0|         0.0|    16.0|          0.0|              0.0|\n",
      "|     6.0|        null|        null|    null|         null|             null|\n",
      "|     0.0|        null|        null|    null|         null|             null|\n",
      "|    99.0|        72.0|         0.0|     0.0|          0.0|             27.0|\n",
      "|    31.0|         6.0|         0.0|    15.0|          0.0|             10.0|\n",
      "|    31.0|         0.0|         0.0|    24.0|          0.0|              7.0|\n",
      "|    14.0|        null|        null|    null|         null|             null|\n",
      "|    31.0|         0.0|         0.0|    31.0|          0.0|              0.0|\n",
      "+--------+------------+------------+--------+-------------+-----------------+\n",
      "only showing top 20 rows\n",
      "\n"
     ]
    }
   ],
   "source": [
    "bd3.filter(bd3.ArrDelay>=0).select('ArrDelay','CarrierDelay','WeatherDelay',\n",
    "                                  'NASDelay','SecurityDelay','LateAircraftDelay').show(20)"
   ]
  },
  {
   "cell_type": "code",
   "execution_count": 20,
   "metadata": {
    "collapsed": false,
    "jupyter": {
     "outputs_hidden": false
    }
   },
   "outputs": [
    {
     "name": "stdout",
     "output_type": "stream",
     "text": [
      "+--------+------------+------------+--------+-------------+-----------------+\n",
      "|ArrDelay|CarrierDelay|WeatherDelay|NASDelay|SecurityDelay|LateAircraftDelay|\n",
      "+--------+------------+------------+--------+-------------+-----------------+\n",
      "|    15.0|        15.0|         0.0|     0.0|          0.0|              0.0|\n",
      "|    15.0|        15.0|         0.0|     0.0|          0.0|              0.0|\n",
      "|    15.0|         0.0|         0.0|    15.0|          0.0|              0.0|\n",
      "|    15.0|         0.0|         0.0|    15.0|          0.0|              0.0|\n",
      "|    15.0|         0.0|         0.0|    15.0|          0.0|              0.0|\n",
      "|    15.0|         0.0|         0.0|    15.0|          0.0|              0.0|\n",
      "|    15.0|         0.0|         6.0|     9.0|          0.0|              0.0|\n",
      "|    15.0|         0.0|         0.0|    15.0|          0.0|              0.0|\n",
      "|    15.0|         4.0|         0.0|     5.0|          0.0|              6.0|\n",
      "|    15.0|         0.0|         0.0|    11.0|          0.0|              4.0|\n",
      "|    15.0|         1.0|         0.0|    14.0|          0.0|              0.0|\n",
      "|    15.0|        15.0|         0.0|     0.0|          0.0|              0.0|\n",
      "|    15.0|         0.0|         0.0|     2.0|          0.0|             13.0|\n",
      "|    15.0|        15.0|         0.0|     0.0|          0.0|              0.0|\n",
      "|    15.0|         0.0|         0.0|     5.0|          0.0|             10.0|\n",
      "|    15.0|         0.0|        15.0|     0.0|          0.0|              0.0|\n",
      "|    15.0|         3.0|         0.0|     4.0|          0.0|              8.0|\n",
      "|    15.0|         0.0|         8.0|     7.0|          0.0|              0.0|\n",
      "|    15.0|         0.0|         0.0|    15.0|          0.0|              0.0|\n",
      "|    15.0|        15.0|         0.0|     0.0|          0.0|              0.0|\n",
      "+--------+------------+------------+--------+-------------+-----------------+\n",
      "only showing top 20 rows\n",
      "\n"
     ]
    }
   ],
   "source": [
    "bd3.filter(bd3.ArrDelay==15).select('ArrDelay','CarrierDelay','WeatherDelay',\n",
    "                                  'NASDelay','SecurityDelay','LateAircraftDelay').show(20)"
   ]
  },
  {
   "cell_type": "code",
   "execution_count": 21,
   "metadata": {
    "collapsed": false,
    "jupyter": {
     "outputs_hidden": false
    }
   },
   "outputs": [
    {
     "name": "stderr",
     "output_type": "stream",
     "text": [
      "                                                                                \r"
     ]
    },
    {
     "data": {
      "text/plain": [
       "8401"
      ]
     },
     "execution_count": 21,
     "metadata": {},
     "output_type": "execute_result"
    }
   ],
   "source": [
    "bd3.filter(bd3.ArrDelay>=15).select('ArrDelay','CarrierDelay','WeatherDelay',\n",
    "                                  'NASDelay','SecurityDelay','LateAircraftDelay').count()"
   ]
  },
  {
   "cell_type": "code",
   "execution_count": 22,
   "metadata": {
    "tags": []
   },
   "outputs": [],
   "source": [
    "bd4 = bd3.na.fill({'CarrierDelay':0, 'WeatherDelay':0,'NASDelay':0,'SecurityDelay':0, 'LateAircraftDelay':0})\n",
    "#bd4 = bd3.na.fill(0)\n",
    "#bd4 = bd3.na.drop()"
   ]
  },
  {
   "cell_type": "code",
   "execution_count": 23,
   "metadata": {
    "collapsed": false,
    "jupyter": {
     "outputs_hidden": false
    }
   },
   "outputs": [
    {
     "name": "stderr",
     "output_type": "stream",
     "text": [
      "                                                                                \r"
     ]
    },
    {
     "data": {
      "text/plain": [
       "summary              count\n",
       "Year                 30466\n",
       "Month                30466\n",
       "DayofMonth           30466\n",
       "DayOfWeek            30466\n",
       "CRSDepTime           30466\n",
       "UniqueCarrier        30466\n",
       "TailNum              30466\n",
       "ArrDelay             30466\n",
       "DepDelay             30466\n",
       "Origin               30466\n",
       "Dest                 30466\n",
       "Distance             30466\n",
       "Cancelled            30466\n",
       "Diverted             30466\n",
       "CarrierDelay         30466\n",
       "WeatherDelay         30466\n",
       "NASDelay             30466\n",
       "SecurityDelay        30466\n",
       "LateAircraftDelay    30466\n",
       "Name: 0, dtype: object"
      ]
     },
     "execution_count": 23,
     "metadata": {},
     "output_type": "execute_result"
    }
   ],
   "source": [
    "bd4.describe().toPandas().transpose()[0]"
   ]
  }
 ],
 "metadata": {
  "anaconda-cloud": {},
  "kernelspec": {
   "display_name": "Python 3 (ipykernel)",
   "language": "python",
   "name": "python3"
  },
  "language_info": {
   "codemirror_mode": {
    "name": "ipython",
    "version": 3
   },
   "file_extension": ".py",
   "mimetype": "text/x-python",
   "name": "python",
   "nbconvert_exporter": "python",
   "pygments_lexer": "ipython3",
   "version": "3.9.7"
  }
 },
 "nbformat": 4,
 "nbformat_minor": 4
}
