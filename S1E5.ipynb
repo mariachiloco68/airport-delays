{
 "cells": [
  {
   "cell_type": "markdown",
   "metadata": {},
   "source": [
    "# Lectura de datos e Inspección inicial"
   ]
  },
  {
   "cell_type": "markdown",
   "metadata": {},
   "source": [
    "Definir SparkContext y SQLContext"
   ]
  },
  {
   "cell_type": "code",
   "execution_count": 1,
   "metadata": {
    "tags": []
   },
   "outputs": [
    {
     "name": "stderr",
     "output_type": "stream",
     "text": [
      "Using Spark's default log4j profile: org/apache/spark/log4j-defaults.properties\n",
      "Setting default log level to \"WARN\".\n",
      "To adjust logging level use sc.setLogLevel(newLevel). For SparkR, use setLogLevel(newLevel).\n",
      "22/02/22 10:54:23 WARN NativeCodeLoader: Unable to load native-hadoop library for your platform... using builtin-java classes where applicable\n",
      "/home/aldos/anaconda3/lib/python3.9/site-packages/pyspark/sql/context.py:77: FutureWarning: Deprecated in 3.0.0. Use SparkSession.builder.getOrCreate() instead.\n",
      "  warnings.warn(\n"
     ]
    }
   ],
   "source": [
    "from pyspark import SparkContext\n",
    "sc = SparkContext()\n",
    "from pyspark.sql import SQLContext\n",
    "sqlContext=SQLContext(sc)"
   ]
  },
  {
   "cell_type": "code",
   "execution_count": 2,
   "metadata": {
    "collapsed": false,
    "jupyter": {
     "outputs_hidden": false
    }
   },
   "outputs": [
    {
     "data": {
      "text/plain": [
       "'3.2.1'"
      ]
     },
     "execution_count": 2,
     "metadata": {},
     "output_type": "execute_result"
    }
   ],
   "source": [
    "sc.version"
   ]
  },
  {
   "cell_type": "markdown",
   "metadata": {},
   "source": [
    "Lectura del fichero de trabajo"
   ]
  },
  {
   "cell_type": "code",
   "execution_count": 3,
   "metadata": {
    "collapsed": false,
    "jupyter": {
     "outputs_hidden": false
    }
   },
   "outputs": [
    {
     "name": "stderr",
     "output_type": "stream",
     "text": [
      "                                                                                \r"
     ]
    }
   ],
   "source": [
    "bd = sqlContext.read.format(\"com.databricks.spark.csv\"\n",
    ").option(\"header\", \"true\"\n",
    ").load(\"../On_Time_On_Time_Performance_2016_12.csv\", inferSchema=True\n",
    ")"
   ]
  },
  {
   "cell_type": "markdown",
   "metadata": {},
   "source": [
    "## Inspección inicial"
   ]
  },
  {
   "cell_type": "markdown",
   "metadata": {},
   "source": [
    "Inspección de las variables"
   ]
  },
  {
   "cell_type": "code",
   "execution_count": 4,
   "metadata": {
    "collapsed": false,
    "jupyter": {
     "outputs_hidden": false
    }
   },
   "outputs": [
    {
     "data": {
      "text/plain": [
       "[('Year', 'int'),\n",
       " ('QUARTER', 'int'),\n",
       " ('Month', 'int'),\n",
       " ('DayofMonth', 'int'),\n",
       " ('DayOfWeek', 'int'),\n",
       " ('FL_DATE', 'string'),\n",
       " ('UniqueCarrier', 'string'),\n",
       " ('OP_CARRIER_AIRLINE_ID', 'int'),\n",
       " ('OP_CARRIER', 'string'),\n",
       " ('TailNum', 'string'),\n",
       " ('OP_CARRIER_FL_NUM', 'int'),\n",
       " ('ORIGIN_AIRPORT_ID', 'int'),\n",
       " ('ORIGIN_AIRPORT_SEQ_ID', 'int'),\n",
       " ('ORIGIN_CITY_MARKET_ID', 'int'),\n",
       " ('Origin', 'string'),\n",
       " ('ORIGIN_CITY_NAME', 'string'),\n",
       " ('ORIGIN_STATE_ABR', 'string'),\n",
       " ('ORIGIN_STATE_FIPS', 'int'),\n",
       " ('ORIGIN_STATE_NM', 'string'),\n",
       " ('ORIGIN_WAC', 'int'),\n",
       " ('DEST_AIRPORT_ID', 'int'),\n",
       " ('DEST_AIRPORT_SEQ_ID', 'int'),\n",
       " ('DEST_CITY_MARKET_ID', 'int'),\n",
       " ('Dest', 'string'),\n",
       " ('DEST_CITY_NAME', 'string'),\n",
       " ('DEST_STATE_ABR', 'string'),\n",
       " ('DEST_STATE_FIPS', 'int'),\n",
       " ('DEST_STATE_NM', 'string'),\n",
       " ('DEST_WAC', 'int'),\n",
       " ('CRSDepTime', 'int'),\n",
       " ('DEP_TIME', 'int'),\n",
       " ('DepDelay', 'double'),\n",
       " ('DEP_DELAY_NEW', 'double'),\n",
       " ('DEP_DEL15', 'double'),\n",
       " ('DEP_DELAY_GROUP', 'int'),\n",
       " ('DEP_TIME_BLK', 'string'),\n",
       " ('TAXI_OUT', 'double'),\n",
       " ('WHEELS_OFF', 'int'),\n",
       " ('WHEELS_ON', 'int'),\n",
       " ('TAXI_IN', 'double'),\n",
       " ('CRS_ARR_TIME', 'int'),\n",
       " ('ARR_TIME', 'int'),\n",
       " ('ArrDelay', 'double'),\n",
       " ('ARR_DELAY_NEW', 'double'),\n",
       " ('ARR_DEL15', 'double'),\n",
       " ('ARR_DELAY_GROUP', 'int'),\n",
       " ('ARR_TIME_BLK', 'string'),\n",
       " ('Cancelled', 'double'),\n",
       " ('CANCELLATION_CODE', 'string'),\n",
       " ('Diverted', 'double'),\n",
       " ('CRS_ELAPSED_TIME', 'double'),\n",
       " ('ACTUAL_ELAPSED_TIME', 'double'),\n",
       " ('AIR_TIME', 'double'),\n",
       " ('FLIGHTS', 'double'),\n",
       " ('Distance', 'double'),\n",
       " ('DISTANCE_GROUP', 'int'),\n",
       " ('CarrierDelay', 'double'),\n",
       " ('WeatherDelay', 'double'),\n",
       " ('NASDelay', 'double'),\n",
       " ('SecurityDelay', 'double'),\n",
       " ('LateAircraftDelay', 'double'),\n",
       " ('FIRST_DEP_TIME', 'int'),\n",
       " ('TOTAL_ADD_GTIME', 'double'),\n",
       " ('LONGEST_ADD_GTIME', 'double'),\n",
       " ('DIV_AIRPORT_LANDINGS', 'int'),\n",
       " ('DIV_REACHED_DEST', 'double'),\n",
       " ('DIV_ACTUAL_ELAPSED_TIME', 'double'),\n",
       " ('DIV_ARR_DELAY', 'double'),\n",
       " ('DIV_DISTANCE', 'double'),\n",
       " ('DIV1_AIRPORT', 'string'),\n",
       " ('DIV1_AIRPORT_ID', 'int'),\n",
       " ('DIV1_AIRPORT_SEQ_ID', 'int'),\n",
       " ('DIV1_WHEELS_ON', 'int'),\n",
       " ('DIV1_TOTAL_GTIME', 'double'),\n",
       " ('DIV1_LONGEST_GTIME', 'double'),\n",
       " ('DIV1_WHEELS_OFF', 'int'),\n",
       " ('DIV1_TAIL_NUM', 'string'),\n",
       " ('DIV2_AIRPORT', 'string'),\n",
       " ('DIV2_AIRPORT_ID', 'int'),\n",
       " ('DIV2_AIRPORT_SEQ_ID', 'int'),\n",
       " ('DIV2_WHEELS_ON', 'int'),\n",
       " ('DIV2_TOTAL_GTIME', 'double'),\n",
       " ('DIV2_LONGEST_GTIME', 'double'),\n",
       " ('DIV2_WHEELS_OFF', 'int'),\n",
       " ('DIV2_TAIL_NUM', 'string'),\n",
       " ('DIV3_AIRPORT', 'string'),\n",
       " ('DIV3_AIRPORT_ID', 'string'),\n",
       " ('DIV3_AIRPORT_SEQ_ID', 'string'),\n",
       " ('DIV3_WHEELS_ON', 'string'),\n",
       " ('DIV3_TOTAL_GTIME', 'string'),\n",
       " ('DIV3_LONGEST_GTIME', 'string'),\n",
       " ('DIV3_WHEELS_OFF', 'string'),\n",
       " ('DIV3_TAIL_NUM', 'string'),\n",
       " ('DIV4_AIRPORT', 'string'),\n",
       " ('DIV4_AIRPORT_ID', 'string'),\n",
       " ('DIV4_AIRPORT_SEQ_ID', 'string'),\n",
       " ('DIV4_WHEELS_ON', 'string'),\n",
       " ('DIV4_TOTAL_GTIME', 'string'),\n",
       " ('DIV4_LONGEST_GTIME', 'string'),\n",
       " ('DIV4_WHEELS_OFF', 'string'),\n",
       " ('DIV4_TAIL_NUM', 'string'),\n",
       " ('DIV5_AIRPORT', 'string'),\n",
       " ('DIV5_AIRPORT_ID', 'string'),\n",
       " ('DIV5_AIRPORT_SEQ_ID', 'string'),\n",
       " ('DIV5_WHEELS_ON', 'string'),\n",
       " ('DIV5_TOTAL_GTIME', 'string'),\n",
       " ('DIV5_LONGEST_GTIME', 'string'),\n",
       " ('DIV5_WHEELS_OFF', 'string'),\n",
       " ('DIV5_TAIL_NUM', 'string'),\n",
       " ('_c109', 'string')]"
      ]
     },
     "execution_count": 4,
     "metadata": {},
     "output_type": "execute_result"
    }
   ],
   "source": [
    "bd.dtypes"
   ]
  },
  {
   "cell_type": "markdown",
   "metadata": {},
   "source": [
    "Información sobre las variables más relevantes\n",
    "\n",
    "http://stat-computing.org/dataexpo/2009/the-data.html\n"
   ]
  },
  {
   "cell_type": "markdown",
   "metadata": {},
   "source": [
    "Selección de Variables de interés"
   ]
  },
  {
   "cell_type": "code",
   "execution_count": 5,
   "metadata": {
    "tags": []
   },
   "outputs": [],
   "source": [
    "bd=bd.select('Year','Month','DayofMonth','DayOfWeek','CRSDepTime','UniqueCarrier',\n",
    "             'TailNum', 'ArrDelay','DepDelay','Origin','Dest','Distance','Cancelled', 'Diverted',\n",
    "             'CarrierDelay','WeatherDelay','NASDelay','SecurityDelay','LateAircraftDelay') "
   ]
  },
  {
   "cell_type": "markdown",
   "metadata": {},
   "source": [
    "Herramientas de gestión de datos disponibles"
   ]
  },
  {
   "cell_type": "code",
   "execution_count": 6,
   "metadata": {
    "collapsed": true,
    "jupyter": {
     "outputs_hidden": true
    }
   },
   "outputs": [],
   "source": [
    "#bd\n",
    "#bd.dtypes\n",
    "#bd.columns\n",
    "#bd.head(3)\n",
    "#bd.show(3)\n",
    "#bd.collect()\n",
    "#bd.select('ArrDelay','DepDelay')\n",
    "#bd.select(bd.ArrDelay)\n",
    "#bd.drop('Year','Month')\n",
    "#bd.describe('ArrDelay') \n",
    "#bd.count()\n",
    "#bd.filter(bd.ArrDelay>120)\n",
    "#bd.filter(bd.ArrDelay>120).show()\n",
    "#bd.filter(bd.ArrDelay>120).count()\n",
    "#bd.withColumn('RetrasoNeto', bd.ArrDelay-bd.DepDelay)\n",
    "#bd.withColumn('RetrasoNeto', bd.ArrDelay-bd.DepDelay).describe('RetrasoNeto').show()"
   ]
  },
  {
   "cell_type": "markdown",
   "metadata": {},
   "source": [
    "Contenido de la base de datos: Variables"
   ]
  },
  {
   "cell_type": "code",
   "execution_count": 6,
   "metadata": {
    "collapsed": false,
    "jupyter": {
     "outputs_hidden": false
    }
   },
   "outputs": [
    {
     "data": {
      "text/plain": [
       "['Year',\n",
       " 'Month',\n",
       " 'DayofMonth',\n",
       " 'DayOfWeek',\n",
       " 'CRSDepTime',\n",
       " 'UniqueCarrier',\n",
       " 'TailNum',\n",
       " 'ArrDelay',\n",
       " 'DepDelay',\n",
       " 'Origin',\n",
       " 'Dest',\n",
       " 'Distance',\n",
       " 'Cancelled',\n",
       " 'Diverted',\n",
       " 'CarrierDelay',\n",
       " 'WeatherDelay',\n",
       " 'NASDelay',\n",
       " 'SecurityDelay',\n",
       " 'LateAircraftDelay']"
      ]
     },
     "execution_count": 6,
     "metadata": {},
     "output_type": "execute_result"
    }
   ],
   "source": [
    "bd.columns"
   ]
  },
  {
   "cell_type": "code",
   "execution_count": 7,
   "metadata": {
    "collapsed": false,
    "jupyter": {
     "outputs_hidden": false
    }
   },
   "outputs": [
    {
     "data": {
      "text/plain": [
       "[('Year', 'int'),\n",
       " ('Month', 'int'),\n",
       " ('DayofMonth', 'int'),\n",
       " ('DayOfWeek', 'int'),\n",
       " ('CRSDepTime', 'int'),\n",
       " ('UniqueCarrier', 'string'),\n",
       " ('TailNum', 'string'),\n",
       " ('ArrDelay', 'double'),\n",
       " ('DepDelay', 'double'),\n",
       " ('Origin', 'string'),\n",
       " ('Dest', 'string'),\n",
       " ('Distance', 'double'),\n",
       " ('Cancelled', 'double'),\n",
       " ('Diverted', 'double'),\n",
       " ('CarrierDelay', 'double'),\n",
       " ('WeatherDelay', 'double'),\n",
       " ('NASDelay', 'double'),\n",
       " ('SecurityDelay', 'double'),\n",
       " ('LateAircraftDelay', 'double')]"
      ]
     },
     "execution_count": 7,
     "metadata": {},
     "output_type": "execute_result"
    }
   ],
   "source": [
    "bd.dtypes"
   ]
  },
  {
   "cell_type": "markdown",
   "metadata": {},
   "source": [
    "Contenido de la base de datos: Registros"
   ]
  },
  {
   "cell_type": "code",
   "execution_count": 8,
   "metadata": {
    "collapsed": false,
    "jupyter": {
     "outputs_hidden": false
    }
   },
   "outputs": [
    {
     "data": {
      "text/plain": [
       "[Row(Year=2016, Month=12, DayofMonth=18, DayOfWeek=7, CRSDepTime=1558, UniqueCarrier='AA', TailNum='N3JHAA', ArrDelay=20.0, DepDelay=-2.0, Origin='MSP', Dest='ORD', Distance=334.0, Cancelled=0.0, Diverted=0.0, CarrierDelay=0.0, WeatherDelay=0.0, NASDelay=20.0, SecurityDelay=0.0, LateAircraftDelay=0.0),\n",
       " Row(Year=2016, Month=12, DayofMonth=19, DayOfWeek=1, CRSDepTime=1558, UniqueCarrier='AA', TailNum='N3DPAA', ArrDelay=20.0, DepDelay=-3.0, Origin='MSP', Dest='ORD', Distance=334.0, Cancelled=0.0, Diverted=0.0, CarrierDelay=0.0, WeatherDelay=0.0, NASDelay=20.0, SecurityDelay=0.0, LateAircraftDelay=0.0),\n",
       " Row(Year=2016, Month=12, DayofMonth=20, DayOfWeek=2, CRSDepTime=1558, UniqueCarrier='AA', TailNum='N3KUAA', ArrDelay=-3.0, DepDelay=-3.0, Origin='MSP', Dest='ORD', Distance=334.0, Cancelled=0.0, Diverted=0.0, CarrierDelay=None, WeatherDelay=None, NASDelay=None, SecurityDelay=None, LateAircraftDelay=None)]"
      ]
     },
     "execution_count": 8,
     "metadata": {},
     "output_type": "execute_result"
    }
   ],
   "source": [
    "bd.head(3)"
   ]
  },
  {
   "cell_type": "code",
   "execution_count": 9,
   "metadata": {
    "collapsed": false,
    "jupyter": {
     "outputs_hidden": false
    }
   },
   "outputs": [
    {
     "name": "stdout",
     "output_type": "stream",
     "text": [
      "+----+-----+----------+---------+----------+-------------+-------+--------+--------+------+----+--------+---------+--------+------------+------------+--------+-------------+-----------------+\n",
      "|Year|Month|DayofMonth|DayOfWeek|CRSDepTime|UniqueCarrier|TailNum|ArrDelay|DepDelay|Origin|Dest|Distance|Cancelled|Diverted|CarrierDelay|WeatherDelay|NASDelay|SecurityDelay|LateAircraftDelay|\n",
      "+----+-----+----------+---------+----------+-------------+-------+--------+--------+------+----+--------+---------+--------+------------+------------+--------+-------------+-----------------+\n",
      "|2016|   12|        18|        7|      1558|           AA| N3JHAA|    20.0|    -2.0|   MSP| ORD|   334.0|      0.0|     0.0|         0.0|         0.0|    20.0|          0.0|              0.0|\n",
      "|2016|   12|        19|        1|      1558|           AA| N3DPAA|    20.0|    -3.0|   MSP| ORD|   334.0|      0.0|     0.0|         0.0|         0.0|    20.0|          0.0|              0.0|\n",
      "|2016|   12|        20|        2|      1558|           AA| N3KUAA|    -3.0|    -3.0|   MSP| ORD|   334.0|      0.0|     0.0|        null|        null|    null|         null|             null|\n",
      "+----+-----+----------+---------+----------+-------------+-------+--------+--------+------+----+--------+---------+--------+------------+------------+--------+-------------+-----------------+\n",
      "only showing top 3 rows\n",
      "\n"
     ]
    }
   ],
   "source": [
    "bd.show(3)"
   ]
  },
  {
   "cell_type": "markdown",
   "metadata": {},
   "source": [
    "Funciones de gestión de datos"
   ]
  },
  {
   "cell_type": "code",
   "execution_count": 10,
   "metadata": {
    "collapsed": false,
    "jupyter": {
     "outputs_hidden": false
    }
   },
   "outputs": [
    {
     "name": "stderr",
     "output_type": "stream",
     "text": [
      "                                                                                \r"
     ]
    },
    {
     "data": {
      "text/plain": [
       "460949"
      ]
     },
     "execution_count": 10,
     "metadata": {},
     "output_type": "execute_result"
    }
   ],
   "source": [
    "bd.count()"
   ]
  },
  {
   "cell_type": "code",
   "execution_count": 11,
   "metadata": {
    "collapsed": false,
    "jupyter": {
     "outputs_hidden": false
    }
   },
   "outputs": [
    {
     "name": "stderr",
     "output_type": "stream",
     "text": [
      "                                                                                \r"
     ]
    },
    {
     "data": {
      "text/plain": [
       "103593"
      ]
     },
     "execution_count": 11,
     "metadata": {},
     "output_type": "execute_result"
    }
   ],
   "source": [
    "bd.dropna().count()"
   ]
  },
  {
   "cell_type": "code",
   "execution_count": 12,
   "metadata": {
    "collapsed": false,
    "jupyter": {
     "outputs_hidden": false
    }
   },
   "outputs": [
    {
     "name": "stderr",
     "output_type": "stream",
     "text": [
      "                                                                                \r"
     ]
    },
    {
     "data": {
      "text/plain": [
       "452229"
      ]
     },
     "execution_count": 12,
     "metadata": {},
     "output_type": "execute_result"
    }
   ],
   "source": [
    "bd.select('ArrDelay').dropna().count()"
   ]
  },
  {
   "cell_type": "code",
   "execution_count": 13,
   "metadata": {
    "collapsed": false,
    "jupyter": {
     "outputs_hidden": false
    }
   },
   "outputs": [
    {
     "name": "stderr",
     "output_type": "stream",
     "text": [
      "                                                                                \r"
     ]
    },
    {
     "data": {
      "text/plain": [
       "187744"
      ]
     },
     "execution_count": 13,
     "metadata": {},
     "output_type": "execute_result"
    }
   ],
   "source": [
    "bd.filter(bd.ArrDelay > 0).count()"
   ]
  },
  {
   "cell_type": "code",
   "execution_count": 14,
   "metadata": {
    "collapsed": false,
    "jupyter": {
     "outputs_hidden": false
    }
   },
   "outputs": [
    {
     "name": "stderr",
     "output_type": "stream",
     "text": [
      "                                                                                \r"
     ]
    },
    {
     "data": {
      "text/plain": [
       "297"
      ]
     },
     "execution_count": 14,
     "metadata": {},
     "output_type": "execute_result"
    }
   ],
   "source": [
    "bd.select(\"Dest\").distinct().count()"
   ]
  },
  {
   "cell_type": "code",
   "execution_count": 15,
   "metadata": {
    "collapsed": false,
    "jupyter": {
     "outputs_hidden": false
    }
   },
   "outputs": [
    {
     "name": "stderr",
     "output_type": "stream",
     "text": [
      "                                                                                \r"
     ]
    },
    {
     "data": {
      "text/plain": [
       "12"
      ]
     },
     "execution_count": 15,
     "metadata": {},
     "output_type": "execute_result"
    }
   ],
   "source": [
    "bd.select(\"UniqueCarrier\").distinct().count()"
   ]
  },
  {
   "cell_type": "code",
   "execution_count": 16,
   "metadata": {
    "collapsed": false,
    "jupyter": {
     "outputs_hidden": false
    }
   },
   "outputs": [
    {
     "name": "stderr",
     "output_type": "stream",
     "text": [
      "[Stage 28:>                                                         (0 + 2) / 2]\r"
     ]
    },
    {
     "name": "stdout",
     "output_type": "stream",
     "text": [
      "+-----------------+\n",
      "|    avg(ArrDelay)|\n",
      "+-----------------+\n",
      "|8.664734017499983|\n",
      "+-----------------+\n",
      "\n"
     ]
    },
    {
     "name": "stderr",
     "output_type": "stream",
     "text": [
      "                                                                                \r"
     ]
    }
   ],
   "source": [
    "bd.select('ArrDelay').groupBy().mean().show()"
   ]
  },
  {
   "cell_type": "code",
   "execution_count": 17,
   "metadata": {
    "collapsed": false,
    "jupyter": {
     "outputs_hidden": false
    }
   },
   "outputs": [
    {
     "name": "stderr",
     "output_type": "stream",
     "text": [
      "[Stage 31:=============================>                            (1 + 1) / 2]\r"
     ]
    },
    {
     "name": "stdout",
     "output_type": "stream",
     "text": [
      "+----+------------------+\n",
      "|Dest|     avg(ArrDelay)|\n",
      "+----+------------------+\n",
      "| BGM| 35.30909090909091|\n",
      "| PSE| 9.337209302325581|\n",
      "| INL| 8.254901960784315|\n",
      "| MSY| 5.031830985915493|\n",
      "| PPG|               4.4|\n",
      "| GEG|13.471534653465346|\n",
      "| SNA|  8.28191027496382|\n",
      "| BUR|11.343975283213183|\n",
      "| GRB|13.459558823529411|\n",
      "| GTF|0.6065573770491803|\n",
      "| IDA|13.757062146892656|\n",
      "| GRR|12.164325842696629|\n",
      "| EUG| 17.99245283018868|\n",
      "| PSG| 17.96551724137931|\n",
      "| PVD| 7.068906115417743|\n",
      "| GSO| 5.271317829457364|\n",
      "| MYR| 6.552238805970149|\n",
      "| OAK|11.638753651411879|\n",
      "| MSN|11.121904761904762|\n",
      "| FAR|23.153846153846153|\n",
      "+----+------------------+\n",
      "only showing top 20 rows\n",
      "\n"
     ]
    },
    {
     "name": "stderr",
     "output_type": "stream",
     "text": [
      "                                                                                \r"
     ]
    }
   ],
   "source": [
    "bd.select('Dest','ArrDelay').groupBy('Dest').mean().show()"
   ]
  },
  {
   "cell_type": "code",
   "execution_count": 18,
   "metadata": {
    "collapsed": false,
    "jupyter": {
     "outputs_hidden": false
    }
   },
   "outputs": [
    {
     "name": "stderr",
     "output_type": "stream",
     "text": [
      "[Stage 34:>                                                         (0 + 2) / 2]\r"
     ]
    },
    {
     "name": "stdout",
     "output_type": "stream",
     "text": [
      "+-------+------------------+\n",
      "|summary|          ArrDelay|\n",
      "+-------+------------------+\n",
      "|  count|            452229|\n",
      "|   mean| 8.664734017499983|\n",
      "| stddev|49.813674227276806|\n",
      "|    min|             -73.0|\n",
      "|    max|            2028.0|\n",
      "+-------+------------------+\n",
      "\n"
     ]
    },
    {
     "name": "stderr",
     "output_type": "stream",
     "text": [
      "                                                                                \r"
     ]
    }
   ],
   "source": [
    "bd.describe('ArrDelay').show()"
   ]
  },
  {
   "cell_type": "markdown",
   "metadata": {},
   "source": [
    "## Inspección inicial a través de SQL"
   ]
  },
  {
   "cell_type": "markdown",
   "metadata": {},
   "source": [
    "Es necesario registrar la base de datos como tabla"
   ]
  },
  {
   "cell_type": "code",
   "execution_count": 19,
   "metadata": {
    "tags": []
   },
   "outputs": [
    {
     "name": "stderr",
     "output_type": "stream",
     "text": [
      "22/02/22 10:57:14 WARN package: Truncated the string representation of a plan since it was too large. This behavior can be adjusted by setting 'spark.sql.debug.maxToStringFields'.\n"
     ]
    }
   ],
   "source": [
    "sqlContext.registerDataFrameAsTable(bd, \"bd\")"
   ]
  },
  {
   "cell_type": "markdown",
   "metadata": {},
   "source": [
    "Consultas a través de sintaxis SQL estándard"
   ]
  },
  {
   "cell_type": "code",
   "execution_count": 20,
   "metadata": {
    "collapsed": false,
    "jupyter": {
     "outputs_hidden": false
    }
   },
   "outputs": [
    {
     "name": "stderr",
     "output_type": "stream",
     "text": [
      "[Stage 37:=============================>                            (1 + 1) / 2]\r"
     ]
    },
    {
     "name": "stdout",
     "output_type": "stream",
     "text": [
      "+----+-----+\n",
      "|Dest|    n|\n",
      "+----+-----+\n",
      "| ATL|30643|\n",
      "| ORD|18786|\n",
      "| DEN|18160|\n",
      "| LAX|17895|\n",
      "| DFW|15471|\n",
      "| SFO|14139|\n",
      "| PHX|13627|\n",
      "| LAS|12086|\n",
      "| IAH|11220|\n",
      "| MCO|11102|\n",
      "| SEA|10633|\n",
      "| EWR| 9960|\n",
      "| MSP| 9957|\n",
      "| DTW| 9709|\n",
      "| BOS| 9361|\n",
      "| SLC| 9108|\n",
      "| CLT| 8978|\n",
      "| BWI| 8327|\n",
      "| JFK| 8072|\n",
      "| FLL| 7885|\n",
      "+----+-----+\n",
      "only showing top 20 rows\n",
      "\n"
     ]
    },
    {
     "name": "stderr",
     "output_type": "stream",
     "text": [
      "                                                                                \r"
     ]
    }
   ],
   "source": [
    "sqlContext.sql(\"select Dest, count(*) as n \\\n",
    "                from bd \\\n",
    "                group by Dest \\\n",
    "                order by n desc\").show()"
   ]
  },
  {
   "cell_type": "code",
   "execution_count": 21,
   "metadata": {
    "collapsed": false,
    "jupyter": {
     "outputs_hidden": false
    }
   },
   "outputs": [
    {
     "name": "stderr",
     "output_type": "stream",
     "text": [
      "[Stage 40:>                                                         (0 + 2) / 2]\r"
     ]
    },
    {
     "name": "stdout",
     "output_type": "stream",
     "text": [
      "+----+------+----+\n",
      "|Dest|Origin|   n|\n",
      "+----+------+----+\n",
      "| LAX|   SFO|1324|\n",
      "| SFO|   LAX|1285|\n",
      "| LAX|   JFK|1056|\n",
      "| JFK|   LAX|1056|\n",
      "| LAX|   LAS| 998|\n",
      "| LAS|   LAX| 994|\n",
      "| LAX|   SEA| 807|\n",
      "| SEA|   LAX| 806|\n",
      "| ORD|   LGA| 798|\n",
      "| LGA|   ORD| 790|\n",
      "| ORD|   LAX| 778|\n",
      "| MCO|   ATL| 757|\n",
      "| ATL|   MCO| 751|\n",
      "| LAX|   ORD| 742|\n",
      "| HNL|   OGG| 737|\n",
      "| OGG|   HNL| 737|\n",
      "| SEA|   SFO| 729|\n",
      "| ATL|   LGA| 727|\n",
      "| SFO|   SEA| 727|\n",
      "| LGA|   ATL| 726|\n",
      "+----+------+----+\n",
      "only showing top 20 rows\n",
      "\n"
     ]
    },
    {
     "name": "stderr",
     "output_type": "stream",
     "text": [
      "                                                                                \r"
     ]
    }
   ],
   "source": [
    "sqlContext.sql(\"select Dest, Origin, count(*) as n \\\n",
    "                from bd \\\n",
    "                group by Dest, Origin \\\n",
    "                order by n desc\").show()"
   ]
  },
  {
   "cell_type": "code",
   "execution_count": 22,
   "metadata": {
    "collapsed": false,
    "jupyter": {
     "outputs_hidden": false
    }
   },
   "outputs": [
    {
     "name": "stderr",
     "output_type": "stream",
     "text": [
      "[Stage 43:>                                                         (0 + 2) / 2]\r"
     ]
    },
    {
     "name": "stdout",
     "output_type": "stream",
     "text": [
      "+-----------------+\n",
      "|    avg(ArrDelay)|\n",
      "+-----------------+\n",
      "|8.664734017499983|\n",
      "+-----------------+\n",
      "\n"
     ]
    },
    {
     "name": "stderr",
     "output_type": "stream",
     "text": [
      "                                                                                \r"
     ]
    }
   ],
   "source": [
    "sqlContext.sql(\"select avg(ArrDelay) from bd\" ).show()"
   ]
  },
  {
   "cell_type": "code",
   "execution_count": 23,
   "metadata": {
    "collapsed": false,
    "jupyter": {
     "outputs_hidden": false
    }
   },
   "outputs": [
    {
     "name": "stderr",
     "output_type": "stream",
     "text": [
      "[Stage 46:>                                                         (0 + 2) / 2]\r"
     ]
    },
    {
     "name": "stdout",
     "output_type": "stream",
     "text": [
      "+----+------------------+---+\n",
      "|Dest|         mArrDelay|  n|\n",
      "+----+------------------+---+\n",
      "| BTM| 38.65384615384615| 56|\n",
      "| BGM| 35.30909090909091| 56|\n",
      "| JAC| 33.95637583892618|310|\n",
      "| EGE| 32.86590038314176|268|\n",
      "| TYR| 30.41176470588235| 17|\n",
      "| HDN|             30.36|157|\n",
      "| ITH|29.512820512820515| 85|\n",
      "| SPS|29.029850746268657| 69|\n",
      "| APN|28.695652173913043| 52|\n",
      "| GGG|28.333333333333332| 44|\n",
      "| ASE| 28.30346232179226|566|\n",
      "| SBN| 26.31782945736434|406|\n",
      "| MQT| 26.09433962264151| 56|\n",
      "| ABI| 25.88888888888889| 27|\n",
      "| FWA|25.273809523809526|350|\n",
      "| PLN|            24.625| 80|\n",
      "| SUN|            24.475|132|\n",
      "| CHA|24.445040214477213|386|\n",
      "| LCH|         24.078125|133|\n",
      "| ESC| 23.71153846153846| 53|\n",
      "+----+------------------+---+\n",
      "only showing top 20 rows\n",
      "\n"
     ]
    },
    {
     "name": "stderr",
     "output_type": "stream",
     "text": [
      "                                                                                \r"
     ]
    }
   ],
   "source": [
    "sqlContext.sql(\"select Dest, avg(ArrDelay) as mArrDelay , count(*) as n\\\n",
    "                from bd \\\n",
    "                group by Dest\\\n",
    "                order by mArrDelay DESC\" ).show()"
   ]
  }
 ],
 "metadata": {
  "anaconda-cloud": {},
  "kernelspec": {
   "display_name": "Python 3 (ipykernel)",
   "language": "python",
   "name": "python3"
  },
  "language_info": {
   "codemirror_mode": {
    "name": "ipython",
    "version": 3
   },
   "file_extension": ".py",
   "mimetype": "text/x-python",
   "name": "python",
   "nbconvert_exporter": "python",
   "pygments_lexer": "ipython3",
   "version": "3.9.7"
  }
 },
 "nbformat": 4,
 "nbformat_minor": 4
}
